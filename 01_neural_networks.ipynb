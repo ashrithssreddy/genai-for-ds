{
 "cells": [
  {
   "cell_type": "markdown",
   "id": "438a6db8",
   "metadata": {},
   "source": [
    "![Python](https://img.shields.io/badge/python-3.9-blue)\n",
    "![Status: Pending Migration](https://img.shields.io/badge/status-pending%20migration-orange)\n",
    "\n",
    "<a id=\"table-of-contents\"></a>\n",
    "# 📖 Neural Networks\n",
    "\n",
    "- [🧠 Introduction to Neural Networks](#introduction-to-neural-networks)\n",
    "    - [🔑 What is a Neural Network?](#what-is-a-neural-network)\n",
    "    - [🎯 Why Neural Networks? (vs. Traditional ML)](#why-neural-networks-vs-traditional-ml)\n",
    "\n",
    "- [🔧 Setup Problem and Dataset](#setup-problem-and-dataset)\n",
    "    - [📝 Define a Binary Classification Problem](#define-a-binary-classification-problem)\n",
    "    - [📊 Visualize the Dataset](#visualize-the-dataset)\n",
    "    - [💡 Define Model Input/Output](#define-model-input-output)\n",
    "\n",
    "- [🛠️ Building a Neural Network](#building-a-neural-network)\n",
    "    - [🔲 Neurons: Inputs, Weights, Biases, Activations](#neurons-and-activations)\n",
    "    - [🔗 Layers and Architecture (Input, Hidden, Output)](#layers-and-architecture)\n",
    "    - [🔄 Forward Propagation](#forward-propagation)\n",
    "    - [📝 Loss Functions](#loss-functions)\n",
    "    - [🔁 Backpropagation (Chain Rule)](#backpropagation)\n",
    "    - [🚀 Gradient Descent (SGD, Adam)](#gradient-descent)\n",
    "\n",
    "- [🧪 Train & Evaluate the Model](#train-and-evaluate-the-model)\n",
    "    - [📉 Visualize Training Loss](#visualize-training-loss)\n",
    "    - [📈 Plot Decision Boundary](#plot-decision-boundary)\n",
    "\n",
    "- [🔚 Closing Notes](#closing-notes)\n",
    "    - [⚠️ Common Pitfalls](#common-pitfalls)\n",
    "    - [🎯 Best Practices](#best-practices)\n",
    "    - [🔮 What Next (Toward Deep Learning & Text)](#what-next)\n",
    "\n",
    "___"
   ]
  },
  {
   "cell_type": "markdown",
   "id": "5756f6b0",
   "metadata": {},
   "source": [
    "<a id=\"introduction-to-neural-networks\"></a>\n",
    "# 🧠 Introduction to Neural Networks\n",
    "\n"
   ]
  },
  {
   "cell_type": "markdown",
   "id": "1662bed1",
   "metadata": {},
   "source": [
    "<details><summary><strong>📖 Click to Expand</strong></summary>\n",
    "\n",
    "This notebook is a **hands-on implementation** of a basic neural network from scratch.\n",
    "\n",
    "You’ll learn how a neural network:\n",
    "- Processes input data through layers\n",
    "- Computes predictions via forward propagation\n",
    "- Learns by minimizing a loss function\n",
    "- Updates its parameters using backpropagation and gradient descent\n",
    "\n",
    "🔍 This is not about real-world deployment or large models.  \n",
    "It’s about **understanding the inner mechanics** that all modern models (including LLMs) are built on.\n",
    "\n",
    "We'll use a small binary classification task (`make_moons`) and train a neural net **end-to-end**.\n",
    "\n",
    "</details>"
   ]
  },
  {
   "cell_type": "markdown",
   "id": "7e9b1909",
   "metadata": {},
   "source": [
    "<a id=\"what-is-a-neural-network\"></a>\n",
    "#### 🔑 What is a Neural Network?\n",
    "\n"
   ]
  },
  {
   "cell_type": "markdown",
   "id": "73849afc",
   "metadata": {},
   "source": [
    "<details><summary><strong>📖 Click to Expand</strong></summary>\n",
    "\n",
    "A **neural network** is a function approximator built from layers of interconnected units called **neurons**.  \n",
    "\n",
    "Each neuron performs a simple weighted sum of its inputs, adds a bias, and applies a **non-linear activation**.  \n",
    "Layers of such neurons can approximate complex functions.\n",
    "\n",
    "The simplest neural network:\n",
    "- Has an **input layer** (features)\n",
    "- One or more **hidden layers** (intermediate transformations)\n",
    "- An **output layer** (final prediction)\n",
    "\n",
    "They are trained by:\n",
    "1. **Forward propagation**: compute output\n",
    "2. **Loss calculation**: measure how wrong the prediction is\n",
    "3. **Backpropagation**: update weights via gradient descent\n",
    "\n",
    "Neural networks power most of modern AI — from image recognition to language generation.\n",
    "\n",
    "</details>"
   ]
  },
  {
   "cell_type": "markdown",
   "id": "d6e09c82",
   "metadata": {},
   "source": [
    "<a id=\"why-neural-networks-vs-traditional-ml\"></a>\n",
    "#### 🎯 Why Neural Networks? (vs. Traditional ML)\n",
    "\n"
   ]
  },
  {
   "cell_type": "markdown",
   "id": "f8da2ed3",
   "metadata": {},
   "source": [
    "<details><summary><strong>📖 Click to Expand</strong></summary>\n",
    "\n",
    "Traditional ML models like logistic regression, decision trees, or SVMs:\n",
    "- Rely on **manually engineered features**\n",
    "- Struggle with **non-linear boundaries** or high-dimensional data\n",
    "- Don’t scale well for structured data like **images, audio, or text**\n",
    "\n",
    "Neural networks, by contrast:\n",
    "- **Learn hierarchical features** automatically from raw data\n",
    "- Can approximate any function (given enough neurons/layers)\n",
    "- Scale to millions of parameters and **power modern deep learning**\n",
    "\n",
    "They are especially useful when:\n",
    "- You want **end-to-end learning**\n",
    "- You’re working with **structured or high-dimensional data**\n",
    "- Traditional models hit a ceiling in accuracy or flexibility\n",
    "\n",
    "📌 In this notebook, we’ll see how even a tiny neural net can outperform linear models on non-linear classification tasks like `make_moons`.\n",
    "\n",
    "</details>\n"
   ]
  },
  {
   "cell_type": "markdown",
   "id": "b802b193",
   "metadata": {},
   "source": [
    "[Back to the top](#table-of-contents)\n",
    "___\n"
   ]
  },
  {
   "cell_type": "markdown",
   "id": "037e66e5",
   "metadata": {},
   "source": [
    "<a id=\"setup-problem-and-dataset\"></a>\n",
    "# 🔧 Setup Problem and Dataset\n",
    "\n"
   ]
  },
  {
   "cell_type": "markdown",
   "id": "05025b98",
   "metadata": {},
   "source": [
    "<a id=\"define-a-binary-classification-problem\"></a>\n",
    "#### 📝 Define a Binary Classification Problem"
   ]
  },
  {
   "cell_type": "markdown",
   "id": "ce16b85d",
   "metadata": {},
   "source": [
    "<a id=\"visualize-the-dataset\"></a>\n",
    "#### 📊 Visualize the Dataset\n",
    "\n"
   ]
  },
  {
   "cell_type": "markdown",
   "id": "0d3d03b8",
   "metadata": {},
   "source": [
    "<a id=\"define-model-input-output\"></a>\n",
    "#### 💡 Define Model Input/Output\n",
    "\n"
   ]
  },
  {
   "cell_type": "markdown",
   "id": "52bd0e21",
   "metadata": {},
   "source": [
    "[Back to the top](#table-of-contents)\n",
    "___\n"
   ]
  },
  {
   "cell_type": "markdown",
   "id": "b0ea645b",
   "metadata": {},
   "source": [
    "<a id=\"building-a-neural-network\"></a>\n",
    "# 🛠️ Building a Neural Network\n",
    "\n"
   ]
  },
  {
   "cell_type": "markdown",
   "id": "1a20bc6e",
   "metadata": {},
   "source": [
    "<a id=\"neurons-and-activations\"></a>\n",
    "#### 🔲 Neurons: Inputs, Weights, Biases, Activations\n",
    "\n"
   ]
  },
  {
   "cell_type": "markdown",
   "id": "ac973efe",
   "metadata": {},
   "source": [
    "<a id=\"layers-and-architecture\"></a>\n",
    "#### 🔗 Layers and Architecture (Input, Hidden, Output)\n",
    "\n"
   ]
  },
  {
   "cell_type": "markdown",
   "id": "7c72da81",
   "metadata": {},
   "source": [
    "<a id=\"forward-propagation\"></a>\n",
    "#### 🔄 Forward Propagation\n",
    "\n"
   ]
  },
  {
   "cell_type": "markdown",
   "id": "33644d09",
   "metadata": {},
   "source": [
    "<a id=\"loss-functions\"></a>\n",
    "#### 📝 Loss Functions\n",
    "\n"
   ]
  },
  {
   "cell_type": "markdown",
   "id": "8e353766",
   "metadata": {},
   "source": [
    "<a id=\"backpropagation\"></a>\n",
    "#### 🔁 Backpropagation (Chain Rule)\n",
    "\n"
   ]
  },
  {
   "cell_type": "markdown",
   "id": "79355b17",
   "metadata": {},
   "source": [
    "<a id=\"gradient-descent\"></a>\n",
    "#### 🚀 Gradient Descent (SGD, Adam)\n",
    "\n"
   ]
  },
  {
   "cell_type": "markdown",
   "id": "eed13e4f",
   "metadata": {},
   "source": [
    "[Back to the top](#table-of-contents)\n",
    "___\n"
   ]
  },
  {
   "cell_type": "markdown",
   "id": "2e696de3",
   "metadata": {},
   "source": [
    "<a id=\"train-and-evaluate-the-model\"></a>\n",
    "# 🧪 Train & Evaluate the Model"
   ]
  },
  {
   "cell_type": "markdown",
   "id": "3b0611f4",
   "metadata": {},
   "source": [
    "<a id=\"visualize-training-loss\"></a>\n",
    "#### 📉 Visualize Training Loss\n",
    "\n"
   ]
  },
  {
   "cell_type": "markdown",
   "id": "858fd247",
   "metadata": {},
   "source": [
    "<a id=\"plot-decision-boundary\"></a>\n",
    "#### 📈 Plot Decision Boundary\n",
    "\n"
   ]
  },
  {
   "cell_type": "markdown",
   "id": "7371d986",
   "metadata": {},
   "source": [
    "[Back to the top](#table-of-contents)\n",
    "___\n",
    "\n"
   ]
  },
  {
   "cell_type": "markdown",
   "id": "1677df81",
   "metadata": {},
   "source": [
    "<a id=\"closing-notes\"></a>\n",
    "# 🔚 Closing Notes\n",
    "\n"
   ]
  },
  {
   "cell_type": "markdown",
   "id": "395f5aec",
   "metadata": {},
   "source": [
    "<a id=\"common-pitfalls\"></a>\n",
    "#### ⚠️ Common Pitfalls\n",
    "\n"
   ]
  },
  {
   "cell_type": "markdown",
   "id": "72619ca4",
   "metadata": {},
   "source": [
    "<a id=\"best-practices\"></a>\n",
    "#### 🎯 Best Practices"
   ]
  },
  {
   "cell_type": "markdown",
   "id": "5df6fae1",
   "metadata": {},
   "source": [
    "<a id=\"what-next\"></a>\n",
    "#### 🔮 What Next (Toward Deep Learning & Text)\n",
    "\n"
   ]
  },
  {
   "cell_type": "markdown",
   "id": "4b74f28d",
   "metadata": {},
   "source": [
    "[Back to the top](#table-of-contents)\n",
    "___\n"
   ]
  }
 ],
 "metadata": {
  "kernelspec": {
   "display_name": "Python 3 (ipykernel)",
   "language": "python",
   "name": "python3"
  },
  "language_info": {
   "codemirror_mode": {
    "name": "ipython",
    "version": 3
   },
   "file_extension": ".py",
   "mimetype": "text/x-python",
   "name": "python",
   "nbconvert_exporter": "python",
   "pygments_lexer": "ipython3",
   "version": "3.12.7"
  }
 },
 "nbformat": 4,
 "nbformat_minor": 5
}
