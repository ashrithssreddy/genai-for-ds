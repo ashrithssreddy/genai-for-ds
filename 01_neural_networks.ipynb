{
 "cells": [
  {
   "cell_type": "markdown",
   "id": "438a6db8",
   "metadata": {},
   "source": [
    "![Python](https://img.shields.io/badge/python-3.9-blue)\n",
    "![Status: Pending Migration](https://img.shields.io/badge/status-pending%20migration-orange)\n",
    "\n",
    "<a id=\"table-of-contents\"></a>\n",
    "# 📖 Neural Networks\n",
    "\n",
    "- [🧠 Introduction to Neural Networks](#introduction-to-neural-networks)\n",
    "    - [🔑 What is a Neural Network?](#what-is-a-neural-network)\n",
    "    - [🎯 Why Neural Networks? (vs. Traditional ML)](#why-neural-networks-vs-traditional-ml)\n",
    "    - [🌍 Real-world Applications](#real-world-applications)\n",
    "- [🔧 Setup Problem and Dataset](#setup-problem-and-dataset)\n",
    "    - [📝 Define a Simple Classification Problem](#define-a-simple-classification-problem)\n",
    "    - [📊 Visualize the Dataset](#visualize-the-dataset)\n",
    "    - [💡 Define Model Input/Output](#define-model-input-output)\n",
    "- [🛠️ Building Blocks of Neural Networks](#building-blocks-of-neural-networks)\n",
    "    - [🔲 Neurons: Inputs, Weights, Biases, Activation Functions](#neurons-inputs-weights-biases-activation-functions)\n",
    "    - [🔗 Layers: Input, Hidden, Output](#layers-input-hidden-output)\n",
    "    - [🔄 Forward Propagation (math and code)](#forward-propagation-math-and-code)\n",
    "- [⚙️ Training Neural Networks](#training-neural-networks)\n",
    "    - [📝 Loss Functions (e.g., MSE, Cross-Entropy)](#loss-functions)\n",
    "    - [🔁 Backpropagation (Chain Rule, Gradients)](#backpropagation)\n",
    "    - [🚀 Gradient Descent and Variants (SGD, Adam)](#gradient-descent-and-variants)\n",
    "- [🔬 Neural Network Architectures](#neural-network-architectures)\n",
    "    - [⚡ Feedforward Neural Networks (MLP)](#feedforward-neural-networks)\n",
    "    - [🔍 Convolutional Neural Networks (CNN) – High level](#convolutional-neural-networks)\n",
    "    - [🔄 Recurrent Neural Networks (RNN) – High level](#recurrent-neural-networks)\n",
    "    - [❓ When to use what?](#when-to-use-what)\n",
    "- [🛠️ Improving Neural Networks](#improving-neural-networks)\n",
    "    - [⚖️ Overfitting and Underfitting](#overfitting-and-underfitting)\n",
    "    - [🔧 Regularization (Dropout, L2)](#regularization)\n",
    "    - [📈 Batch Normalization](#batch-normalization)\n",
    "    - [⚙️ Hyperparameter Tuning (Learning Rate, Batch Size, Layers)](#hyperparameter-tuning)\n",
    "- [📚 Applications and Case Studies](#applications-and-case-studies)\n",
    "    - [🔢 Small Handwritten Digit Classifier (e.g., MNIST 1000 samples subset)](#small-handwritten-digit-classifier)\n",
    "    - [📈 Tiny Time Series Predictor](#tiny-time-series-predictor)\n",
    "- [🔚 Closing Notes](#closing-notes)\n",
    "    - [⚠️ Common Pitfalls](#common-pitfalls)\n",
    "    - [🎯 Best Practices](#best-practices)\n",
    "    - [⚡ Scaling Challenges](#scaling-challenges-in-neural-networks)\n",
    "    - [🚀 Further Topics](#further-topics-to-learn-in-neural-networks)\n",
    "    - [🔮 What Next](#what-to-learn-after-neural-networks)\n",
    "___\n"
   ]
  },
  {
   "cell_type": "markdown",
   "id": "def5887d",
   "metadata": {},
   "source": [
    "<a id=\"introduction-to-neural-networks\"></a>\n",
    "# 🧠 Introduction to Neural Networks\n"
   ]
  },
  {
   "cell_type": "markdown",
   "id": "38f5bc72",
   "metadata": {},
   "source": [
    "<a id=\"what-is-a-neural-network\"></a>\n",
    "#### 🔑 What is a Neural Network?\n"
   ]
  },
  {
   "cell_type": "markdown",
   "id": "8877666e",
   "metadata": {},
   "source": [
    "<a id=\"why-neural-networks-vs-traditional-ml\"></a>\n",
    "#### 🎯 Why Neural Networks? (vs. Traditional ML)\n"
   ]
  },
  {
   "cell_type": "markdown",
   "id": "65e84f1e",
   "metadata": {},
   "source": [
    "<a id=\"real-world-applications\"></a>\n",
    "#### 🌍 Real-world Applications\n"
   ]
  },
  {
   "cell_type": "markdown",
   "id": "dee17ff1",
   "metadata": {},
   "source": [
    "[Back to the top](#table-of-contents)\n",
    "___\n"
   ]
  },
  {
   "cell_type": "markdown",
   "id": "da098752",
   "metadata": {},
   "source": [
    "<a id=\"setup-problem-and-dataset\"></a>\n",
    "# 🔧 Setup Problem and Dataset\n"
   ]
  },
  {
   "cell_type": "markdown",
   "id": "0119ee77",
   "metadata": {},
   "source": [
    "<a id=\"define-a-simple-classification-problem\"></a>\n",
    "#### 📝 Define a Simple Classification Problem\n"
   ]
  },
  {
   "cell_type": "markdown",
   "id": "21b5516d",
   "metadata": {},
   "source": [
    "<a id=\"visualize-the-dataset\"></a>\n",
    "#### 📊 Visualize the Dataset\n"
   ]
  },
  {
   "cell_type": "markdown",
   "id": "bded22b4",
   "metadata": {},
   "source": [
    "<a id=\"define-model-input-output\"></a>\n",
    "#### 💡 Define Model Input/Output\n"
   ]
  },
  {
   "cell_type": "markdown",
   "id": "92bd9235",
   "metadata": {},
   "source": [
    "[Back to the top](#table-of-contents)\n",
    "___\n"
   ]
  },
  {
   "cell_type": "markdown",
   "id": "df2b5903",
   "metadata": {},
   "source": [
    "<a id=\"building-blocks-of-neural-networks\"></a>\n",
    "# 🛠️ Building Blocks of Neural Networks\n"
   ]
  },
  {
   "cell_type": "markdown",
   "id": "29c101ad",
   "metadata": {},
   "source": [
    "<a id=\"neurons-inputs-weights-biases-activation-functions\"></a>\n",
    "#### 🔲 Neurons: Inputs, Weights, Biases, Activation Functions\n"
   ]
  },
  {
   "cell_type": "markdown",
   "id": "4bc45708",
   "metadata": {},
   "source": [
    "<a id=\"layers-input-hidden-output\"></a>\n",
    "#### 🔗 Layers: Input, Hidden, Output\n"
   ]
  },
  {
   "cell_type": "markdown",
   "id": "379c48f8",
   "metadata": {},
   "source": [
    "<a id=\"forward-propagation-math-and-code\"></a>\n",
    "#### 🔄 Forward Propagation (math and code)\n"
   ]
  },
  {
   "cell_type": "markdown",
   "id": "5a0229ff",
   "metadata": {},
   "source": [
    "[Back to the top](#table-of-contents)\n",
    "___\n"
   ]
  },
  {
   "cell_type": "markdown",
   "id": "d8536d9a",
   "metadata": {},
   "source": [
    "<a id=\"training-neural-networks\"></a>\n",
    "# ⚙️ Training Neural Networks\n"
   ]
  },
  {
   "cell_type": "markdown",
   "id": "548b42e5",
   "metadata": {},
   "source": [
    "<a id=\"loss-functions\"></a>\n",
    "#### 📝 Loss Functions (e.g., MSE, Cross-Entropy)\n"
   ]
  },
  {
   "cell_type": "markdown",
   "id": "baadd963",
   "metadata": {},
   "source": [
    "<a id=\"backpropagation\"></a>\n",
    "#### 🔁 Backpropagation (Chain Rule, Gradients)\n"
   ]
  },
  {
   "cell_type": "markdown",
   "id": "f2fea451",
   "metadata": {},
   "source": [
    "<a id=\"gradient-descent-and-variants\"></a>\n",
    "#### 🚀 Gradient Descent and Variants (SGD, Adam)\n"
   ]
  },
  {
   "cell_type": "markdown",
   "id": "ed723564",
   "metadata": {},
   "source": [
    "[Back to the top](#table-of-contents)\n",
    "___\n"
   ]
  },
  {
   "cell_type": "markdown",
   "id": "cbba1f10",
   "metadata": {},
   "source": [
    "<a id=\"neural-network-architectures\"></a>\n",
    "# 🔬 Neural Network Architectures\n"
   ]
  },
  {
   "cell_type": "markdown",
   "id": "635cb8f6",
   "metadata": {},
   "source": [
    "<a id=\"feedforward-neural-networks\"></a>\n",
    "#### ⚡ Feedforward Neural Networks (MLP)\n"
   ]
  },
  {
   "cell_type": "markdown",
   "id": "c30d8d90",
   "metadata": {},
   "source": [
    "<a id=\"convolutional-neural-networks\"></a>\n",
    "#### 🔍 Convolutional Neural Networks (CNN) – High level\n"
   ]
  },
  {
   "cell_type": "markdown",
   "id": "6c3a35a0",
   "metadata": {},
   "source": [
    "<a id=\"recurrent-neural-networks\"></a>\n",
    "#### 🔄 Recurrent Neural Networks (RNN) – High level\n"
   ]
  },
  {
   "cell_type": "markdown",
   "id": "01869188",
   "metadata": {},
   "source": [
    "<a id=\"when-to-use-what\"></a>\n",
    "#### ❓ When to use what?\n"
   ]
  },
  {
   "cell_type": "markdown",
   "id": "4b600df0",
   "metadata": {},
   "source": [
    "[Back to the top](#table-of-contents)\n",
    "___\n"
   ]
  },
  {
   "cell_type": "markdown",
   "id": "d865d341",
   "metadata": {},
   "source": [
    "<a id=\"improving-neural-networks\"></a>\n",
    "# 🛠️ Improving Neural Networks\n"
   ]
  },
  {
   "cell_type": "markdown",
   "id": "5bf30c0c",
   "metadata": {},
   "source": [
    "<a id=\"overfitting-and-underfitting\"></a>\n",
    "#### ⚖️ Overfitting and Underfitting\n"
   ]
  },
  {
   "cell_type": "markdown",
   "id": "795e1af5",
   "metadata": {},
   "source": [
    "<a id=\"regularization\"></a>\n",
    "#### 🔧 Regularization (Dropout, L2)\n"
   ]
  },
  {
   "cell_type": "markdown",
   "id": "c88aa7b4",
   "metadata": {},
   "source": [
    "<a id=\"batch-normalization\"></a>\n",
    "#### 📈 Batch Normalization\n"
   ]
  },
  {
   "cell_type": "markdown",
   "id": "70697362",
   "metadata": {},
   "source": [
    "<a id=\"hyperparameter-tuning\"></a>\n",
    "#### ⚙️ Hyperparameter Tuning (Learning Rate, Batch Size, Layers)\n"
   ]
  },
  {
   "cell_type": "markdown",
   "id": "160e49fb",
   "metadata": {},
   "source": [
    "[Back to the top](#table-of-contents)\n",
    "___\n"
   ]
  },
  {
   "cell_type": "markdown",
   "id": "e1b5e25a",
   "metadata": {},
   "source": [
    "<a id=\"applications-and-case-studies\"></a>\n",
    "# 📚 Applications and Case Studies\n"
   ]
  },
  {
   "cell_type": "markdown",
   "id": "5c7fcf79",
   "metadata": {},
   "source": [
    "<a id=\"small-handwritten-digit-classifier\"></a>\n",
    "#### 🔢 Small Handwritten Digit Classifier (e.g., MNIST 1000 samples subset)\n"
   ]
  },
  {
   "cell_type": "markdown",
   "id": "6d52e6a0",
   "metadata": {},
   "source": [
    "<a id=\"tiny-time-series-predictor\"></a>\n",
    "#### 📈 Tiny Time Series Predictor\n"
   ]
  },
  {
   "cell_type": "markdown",
   "id": "4ec26e10",
   "metadata": {},
   "source": [
    "[Back to the top](#table-of-contents)\n",
    "___\n"
   ]
  },
  {
   "cell_type": "markdown",
   "id": "52bd49da",
   "metadata": {},
   "source": [
    "<a id=\"closing-notes\"></a>\n",
    "# 🔚 Closing Notes\n"
   ]
  },
  {
   "cell_type": "markdown",
   "id": "36ca2d24",
   "metadata": {},
   "source": [
    "<a id=\"common-pitfalls\"></a>\n",
    "#### ⚠️ Common Pitfalls\n"
   ]
  },
  {
   "cell_type": "markdown",
   "id": "a97e0241",
   "metadata": {},
   "source": [
    "<a id=\"best-practices\"></a>\n",
    "#### 🎯 Best Practices\n"
   ]
  },
  {
   "cell_type": "markdown",
   "id": "3e29d041",
   "metadata": {},
   "source": [
    "<a id=\"scaling-challenges-in-neural-networks\"></a>\n",
    "#### ⚡ Scaling Challenges\n"
   ]
  },
  {
   "cell_type": "markdown",
   "id": "c428cadf",
   "metadata": {},
   "source": [
    "<a id=\"further-topics-to-learn-in-neural-networks\"></a>\n",
    "#### 🚀 Further Topics\n"
   ]
  },
  {
   "cell_type": "markdown",
   "id": "2a652061",
   "metadata": {},
   "source": [
    "<a id=\"what-to-learn-after-neural-networks\"></a>\n",
    "#### 🔮 What Next\n"
   ]
  },
  {
   "cell_type": "markdown",
   "id": "782c0563",
   "metadata": {},
   "source": [
    "[Back to the top](#table-of-contents)\n",
    "___\n"
   ]
  }
 ],
 "metadata": {
  "kernelspec": {
   "display_name": "Python 3 (ipykernel)",
   "language": "python",
   "name": "python3"
  },
  "language_info": {
   "codemirror_mode": {
    "name": "ipython",
    "version": 3
   },
   "file_extension": ".py",
   "mimetype": "text/x-python",
   "name": "python",
   "nbconvert_exporter": "python",
   "pygments_lexer": "ipython3",
   "version": "3.12.7"
  }
 },
 "nbformat": 4,
 "nbformat_minor": 5
}
