{
 "cells": [
  {
   "cell_type": "markdown",
   "id": "438a6db8",
   "metadata": {},
   "source": [
    "![Python](https://img.shields.io/badge/python-3.9-blue)\n",
    "![Status: Pending Migration](https://img.shields.io/badge/status-pending%20migration-orange)\n",
    "\n",
    "<a id=\"table-of-contents\"></a>\n",
    "# 📖 Neural Networks\n",
    "\n",
    "- [🧠 Introduction to Neural Networks](#introduction-to-neural-networks)\n",
    "    - [🔑 What is a Neural Network?](#what-is-a-neural-network)\n",
    "    - [🎯 Why Neural Networks? (vs. Traditional ML)](#why-neural-networks-vs-traditional-ml)\n",
    "\n",
    "- [🔧 Setup Problem and Dataset](#setup-problem-and-dataset)\n",
    "    - [📝 Define a Binary Classification Problem](#define-a-binary-classification-problem)\n",
    "    - [📊 Visualize the Dataset](#visualize-the-dataset)\n",
    "    - [💡 Define Model Input/Output](#define-model-input-output)\n",
    "\n",
    "- [🛠️ Building a Neural Network](#building-a-neural-network)\n",
    "    - [🔲 Neurons: Inputs, Weights, Biases, Activations](#neurons-and-activations)\n",
    "    - [🔗 Layers and Architecture (Input, Hidden, Output)](#layers-and-architecture)\n",
    "    - [🔄 Forward Propagation](#forward-propagation)\n",
    "    - [📝 Loss Functions](#loss-functions)\n",
    "    - [🔁 Backpropagation (Chain Rule)](#backpropagation)\n",
    "    - [🚀 Gradient Descent (SGD, Adam)](#gradient-descent)\n",
    "\n",
    "- [🧪 Train & Evaluate the Model](#train-and-evaluate-the-model)\n",
    "    - [🔁 Train Model on Dataset](#train-model-on-dataset)\n",
    "    - [📉 Visualize Training Loss](#visualize-training-loss)\n",
    "    - [📈 Plot Decision Boundary](#plot-decision-boundary)\n",
    "\n",
    "- [🔚 Closing Notes](#closing-notes)\n",
    "    - [⚠️ Common Pitfalls](#common-pitfalls)\n",
    "    - [🎯 Best Practices](#best-practices)\n",
    "    - [🔮 What Next (Toward Deep Learning & Text)](#what-next)\n",
    "\n",
    "___"
   ]
  },
  {
   "cell_type": "markdown",
   "id": "5756f6b0",
   "metadata": {},
   "source": [
    "<a id=\"introduction-to-neural-networks\"></a>\n",
    "# 🧠 Introduction to Neural Networks\n",
    "\n"
   ]
  },
  {
   "cell_type": "markdown",
   "id": "1662bed1",
   "metadata": {},
   "source": [
    "<details><summary><strong>📖 Click to Expand</strong></summary>\n",
    "\n",
    "This notebook is a **hands-on implementation** of a basic neural network from scratch.\n",
    "\n",
    "You’ll learn how a neural network:\n",
    "- Processes input data through layers\n",
    "- Computes predictions via forward propagation\n",
    "- Learns by minimizing a loss function\n",
    "- Updates its parameters using backpropagation and gradient descent\n",
    "\n",
    "🔍 This is not about real-world deployment or large models.  \n",
    "It’s about **understanding the inner mechanics** that all modern models (including LLMs) are built on.\n",
    "\n",
    "We'll use a small binary classification task (`make_moons`) and train a neural net **end-to-end**.\n",
    "\n",
    "</details>"
   ]
  },
  {
   "cell_type": "markdown",
   "id": "7e9b1909",
   "metadata": {},
   "source": [
    "<a id=\"what-is-a-neural-network\"></a>\n",
    "#### 🔑 What is a Neural Network?\n",
    "\n"
   ]
  },
  {
   "cell_type": "markdown",
   "id": "73849afc",
   "metadata": {},
   "source": [
    "<details><summary><strong>📖 Click to Expand</strong></summary>\n",
    "\n",
    "A **neural network** is a function approximator built from layers of interconnected units called **neurons**.  \n",
    "\n",
    "Each neuron performs a simple weighted sum of its inputs, adds a bias, and applies a **non-linear activation**.  \n",
    "Layers of such neurons can approximate complex functions.\n",
    "\n",
    "The simplest neural network:\n",
    "- Has an **input layer** (features)\n",
    "- One or more **hidden layers** (intermediate transformations)\n",
    "- An **output layer** (final prediction)\n",
    "\n",
    "They are trained by:\n",
    "1. **Forward propagation**: compute output\n",
    "2. **Loss calculation**: measure how wrong the prediction is\n",
    "3. **Backpropagation**: update weights via gradient descent\n",
    "\n",
    "Neural networks power most of modern AI — from image recognition to language generation.\n",
    "\n",
    "</details>"
   ]
  },
  {
   "cell_type": "markdown",
   "id": "d6e09c82",
   "metadata": {},
   "source": [
    "<a id=\"why-neural-networks-vs-traditional-ml\"></a>\n",
    "#### 🎯 Why Neural Networks? (vs. Traditional ML)\n",
    "\n"
   ]
  },
  {
   "cell_type": "markdown",
   "id": "f8da2ed3",
   "metadata": {},
   "source": [
    "<details><summary><strong>📖 Click to Expand</strong></summary>\n",
    "\n",
    "Traditional ML models like logistic regression, decision trees, or SVMs:\n",
    "- Rely on **manually engineered features**\n",
    "- Struggle with **non-linear boundaries** or high-dimensional data\n",
    "- Don’t scale well for structured data like **images, audio, or text**\n",
    "\n",
    "Neural networks, by contrast:\n",
    "- **Learn hierarchical features** automatically from raw data\n",
    "- Can approximate any function (given enough neurons/layers)\n",
    "- Scale to millions of parameters and **power modern deep learning**\n",
    "\n",
    "They are especially useful when:\n",
    "- You want **end-to-end learning**\n",
    "- You’re working with **structured or high-dimensional data**\n",
    "- Traditional models hit a ceiling in accuracy or flexibility\n",
    "\n",
    "📌 In this notebook, we’ll see how even a tiny neural net can outperform linear models on non-linear classification tasks like `make_moons`.\n",
    "\n",
    "</details>\n"
   ]
  },
  {
   "cell_type": "markdown",
   "id": "b802b193",
   "metadata": {},
   "source": [
    "[Back to the top](#table-of-contents)\n",
    "___\n"
   ]
  },
  {
   "cell_type": "markdown",
   "id": "037e66e5",
   "metadata": {},
   "source": [
    "<a id=\"setup-problem-and-dataset\"></a>\n",
    "# 🔧 Setup Problem and Dataset\n",
    "\n"
   ]
  },
  {
   "cell_type": "markdown",
   "id": "05025b98",
   "metadata": {},
   "source": [
    "<a id=\"define-a-binary-classification-problem\"></a>\n",
    "#### 📝 Define a Binary Classification Problem"
   ]
  },
  {
   "cell_type": "code",
   "execution_count": 1,
   "id": "4c1514ea",
   "metadata": {},
   "outputs": [],
   "source": [
    "from sklearn.datasets import make_moons\n",
    "from sklearn.model_selection import train_test_split\n",
    "import numpy as np\n",
    "from IPython.display import clear_output\n",
    "import plotly.io as pio\n",
    "\n",
    "# def reset_plotting_env():\n",
    "#     clear_output(wait=True)\n",
    "#     pio.renderers.default = 'notebook_connected'  # or 'colab' if using Colab\n",
    "# reset_plotting_env()  # wipe everything from earlier runs\n",
    "\n",
    "from IPython.core.interactiveshell import InteractiveShell\n",
    "InteractiveShell.ast_node_interactivity = \"all\""
   ]
  },
  {
   "cell_type": "code",
   "execution_count": 2,
   "id": "9cac732a",
   "metadata": {},
   "outputs": [
    {
     "data": {
      "text/plain": [
       "array([[-0.11166654,  0.52022374],\n",
       "       [ 1.14264982, -0.34257734],\n",
       "       [ 0.79555796, -0.01144231],\n",
       "       ...,\n",
       "       [ 1.72760808, -0.42882943],\n",
       "       [-1.01448644,  0.13522904],\n",
       "       [ 0.77438101,  0.63428493]])"
      ]
     },
     "execution_count": 2,
     "metadata": {},
     "output_type": "execute_result"
    },
    {
     "data": {
      "text/plain": [
       "array([1, 1, 1, 1, 0, 1, 1, 1, 1, 0, 1, 0, 1, 1, 1, 1, 0, 1, 1, 0, 1, 0,\n",
       "       0, 1, 0, 0, 0, 1, 1, 1, 0, 0, 1, 0, 0, 0, 1, 1, 1, 0, 0, 0, 0, 1,\n",
       "       0, 0, 1, 1, 0, 1, 1, 1, 0, 1, 0, 0, 1, 0, 0, 1, 0, 0, 1, 0, 1, 1,\n",
       "       1, 1, 0, 1, 0, 0, 1, 1, 0, 0, 1, 0, 1, 0, 1, 0, 0, 0, 0, 1, 1, 1,\n",
       "       1, 0, 0, 0, 1, 0, 1, 0, 1, 0, 0, 1, 1, 0, 1, 0, 1, 1, 1, 1, 0, 1,\n",
       "       1, 1, 1, 1, 0, 0, 0, 1, 1, 0, 1, 0, 1, 0, 0, 1, 1, 0, 1, 1, 1, 1,\n",
       "       0, 1, 1, 0, 0, 0, 0, 0, 0, 0, 1, 0, 1, 1, 1, 0, 1, 0, 1, 0, 1, 0,\n",
       "       1, 0, 0, 1, 0, 1, 1, 1, 1, 1, 1, 1, 0, 1, 0, 0, 0, 0, 0, 1, 0, 0,\n",
       "       0, 0, 1, 1, 0, 1, 0, 1, 1, 0, 0, 0, 1, 1, 1, 1, 1, 0, 0, 0, 0, 0,\n",
       "       1, 0, 0, 1, 1, 1, 1, 1, 0, 1, 0, 1, 0, 0, 1, 1, 1, 0, 1, 0, 1, 1,\n",
       "       0, 1, 1, 0, 1, 0, 1, 0, 1, 1, 0, 1, 0, 1, 0, 0, 0, 1, 0, 0, 0, 0,\n",
       "       1, 1, 0, 0, 0, 0, 0, 0, 0, 1, 1, 1, 0, 0, 1, 1, 1, 0, 1, 0, 0, 0,\n",
       "       0, 1, 1, 0, 1, 0, 0, 0, 1, 0, 1, 0, 0, 1, 0, 1, 1, 1, 0, 0, 0, 1,\n",
       "       0, 0, 0, 1, 1, 1, 1, 0, 0, 0, 1, 0, 0, 0, 1, 0, 0, 0, 1, 1, 0, 1,\n",
       "       1, 1, 1, 1, 1, 1, 0, 0, 0, 0, 1, 0, 0, 0, 0, 1, 1, 1, 0, 0, 1, 0,\n",
       "       1, 0, 1, 1, 0, 0, 1, 1, 1, 1, 0, 0, 0, 0, 0, 0, 1, 1, 0, 1, 0, 0,\n",
       "       1, 0, 0, 0, 0, 0, 0, 0, 0, 1, 0, 0, 0, 0, 1, 0, 0, 1, 0, 1, 0, 0,\n",
       "       0, 1, 0, 0, 1, 1, 0, 0, 1, 0, 0, 1, 1, 0, 1, 1, 0, 0, 1, 0, 1, 0,\n",
       "       0, 0, 1, 1, 0, 0, 1, 1, 1, 1, 1, 0, 0, 1, 1, 1, 1, 0, 1, 1, 1, 1,\n",
       "       1, 0, 0, 1, 0, 1, 0, 0, 0, 0, 1, 0, 0, 0, 0, 0, 0, 0, 0, 0, 1, 1,\n",
       "       0, 1, 1, 1, 1, 1, 1, 0, 1, 1, 1, 1, 0, 0, 0, 1, 1, 1, 0, 0, 0, 0,\n",
       "       1, 1, 0, 0, 0, 0, 1, 0, 0, 0, 1, 0, 0, 1, 1, 1, 1, 1, 1, 0, 0, 0,\n",
       "       1, 0, 0, 0, 0, 0, 1, 1, 1, 0, 0, 0, 0, 0, 1, 1, 1, 0, 0, 1, 1, 1,\n",
       "       1, 0, 1, 1, 0, 1, 0, 0, 0, 1, 0, 0, 1, 0, 0, 1, 1, 0, 0, 1, 1, 0,\n",
       "       1, 0, 1, 0, 1, 0, 1, 0, 0, 0, 1, 0, 0, 0, 0, 0, 0, 1, 1, 1, 1, 0,\n",
       "       0, 0, 1, 0, 1, 1, 0, 0, 0, 0, 0, 1, 1, 1, 0, 0, 1, 0, 0, 1, 0, 0,\n",
       "       1, 0, 0, 1, 0, 0, 0, 1, 0, 0, 1, 1, 1, 0, 1, 1, 0, 0, 0, 1, 1, 1,\n",
       "       1, 0, 0, 1, 1, 1, 0, 0, 0, 0, 1, 1, 0, 0, 1, 1, 0, 0, 1, 1, 1, 1,\n",
       "       1, 1, 1, 0, 1, 0, 1, 0, 0, 1, 0, 1, 1, 1, 1, 0, 0, 1, 1, 0, 0, 1,\n",
       "       0, 1, 0, 0, 0, 1, 0, 0, 1, 1, 1, 1, 0, 1, 1, 1, 1, 1, 1, 1, 0, 1,\n",
       "       0, 1, 1, 1, 0, 0, 1, 0, 0, 0, 1, 1, 1, 1, 0, 0, 0, 0, 1, 0, 1, 1,\n",
       "       1, 0, 1, 0, 0, 1, 0, 0, 1, 1, 1, 1, 1, 0, 1, 0, 0, 0, 1, 1, 1, 1,\n",
       "       1, 0, 0, 0, 1, 1, 1, 1, 0, 0, 0, 0, 0, 1, 1, 0, 1, 0, 1, 0, 0, 0,\n",
       "       0, 0, 0, 0, 0, 0, 1, 1, 1, 1, 1, 0, 1, 0, 1, 1, 1, 1, 0, 1, 1, 1,\n",
       "       1, 1, 1, 1, 1, 0, 1, 1, 0, 1, 0, 0, 0, 1, 0, 1, 1, 1, 0, 1, 1, 0,\n",
       "       1, 1, 0, 1, 0, 1, 1, 0, 0, 1, 1, 1, 0, 0, 0, 0, 1, 1, 0, 0, 1, 1,\n",
       "       1, 1, 1, 1, 1, 1, 1, 1, 1, 1, 1, 1, 0, 0, 1, 0, 1, 0, 1, 0, 1, 1,\n",
       "       1, 1, 1, 1, 0, 1, 0, 1, 1, 1, 0, 1, 1, 0, 0, 1, 0, 1, 1, 0, 0, 1,\n",
       "       1, 1, 1, 1, 1, 1, 1, 0, 1, 1, 1, 0, 1, 0, 0, 1, 1, 0, 0, 0, 1, 0,\n",
       "       0, 1, 0, 0, 0, 1, 0, 1, 0, 0, 0, 0, 1, 0, 1, 1, 1, 1, 0, 1, 0, 0,\n",
       "       0, 0, 0, 0, 1, 0, 1, 0, 1, 0, 1, 1, 1, 0, 1, 0, 1, 0, 0, 1, 1, 1,\n",
       "       0, 0, 0, 1, 1, 0, 1, 0, 1, 1, 0, 1, 0, 0, 1, 1, 1, 0, 0, 0, 1, 1,\n",
       "       0, 0, 0, 0, 0, 1, 1, 0, 1, 0, 0, 0, 1, 0, 0, 0, 1, 1, 1, 1, 0, 1,\n",
       "       1, 1, 0, 1, 1, 1, 1, 0, 1, 1, 0, 1, 1, 0, 0, 1, 1, 1, 0, 0, 0, 0,\n",
       "       0, 0, 1, 0, 0, 1, 0, 0, 0, 1, 0, 1, 0, 1, 1, 0, 0, 0, 0, 0, 0, 0,\n",
       "       0, 1, 0, 1, 0, 0, 0, 1, 0, 0])"
      ]
     },
     "execution_count": 2,
     "metadata": {},
     "output_type": "execute_result"
    }
   ],
   "source": [
    "# Generate dataset\n",
    "X, y = make_moons(n_samples=1000, noise=0.2, random_state=42)\n",
    "X\n",
    "y\n",
    "\n",
    "# Train-test split\n",
    "X_train, X_test, y_train, y_test = train_test_split(X, y, test_size=0.2, random_state=42)\n"
   ]
  },
  {
   "cell_type": "markdown",
   "id": "ce16b85d",
   "metadata": {},
   "source": [
    "<a id=\"visualize-the-dataset\"></a>\n",
    "#### 📊 Visualize the Dataset\n",
    "\n"
   ]
  },
  {
   "cell_type": "markdown",
   "id": "2bc213cf",
   "metadata": {},
   "source": [
    "<details><summary><strong>📖 Click to Expand</strong></summary>\n",
    "\n",
    "Before training, it helps to **visualize the classification problem**.\n",
    "\n",
    "Each point in `make_moons` belongs to one of two classes (0 or 1), arranged in two interleaving arcs.  \n",
    "This non-linear shape makes it impossible for a straight-line decision boundary to separate them cleanly — a perfect case for neural networks to shine.\n",
    "\n",
    "</details>\n"
   ]
  },
  {
   "cell_type": "code",
   "execution_count": 3,
   "id": "4c2ac7f5",
   "metadata": {},
   "outputs": [
    {
     "data": {
      "image/png": "[encoded data removed]",
      "text/plain": [
       "<Figure size 600x600 with 1 Axes>"
      ]
     },
     "metadata": {},
     "output_type": "display_data"
    }
   ],
   "source": [
    "import matplotlib.pyplot as plt\n",
    "\n",
    "# Plot the dataset\n",
    "plt.figure(figsize=(6, 6))\n",
    "for label, color in zip([0, 1], ['#1f77b4', '#ff7f0e']):\n",
    "    plt.scatter(\n",
    "        X_train[y_train == label, 0],\n",
    "        X_train[y_train == label, 1],\n",
    "        c=color,\n",
    "        label=f\"Class {label}\",\n",
    "        edgecolors='k',\n",
    "        alpha=0.7\n",
    "    )\n",
    "\n",
    "plt.title(\"Training Data\")\n",
    "plt.xlabel(\"Feature 1\")\n",
    "plt.ylabel(\"Feature 2\")\n",
    "plt.legend()\n",
    "plt.show();\n"
   ]
  },
  {
   "cell_type": "markdown",
   "id": "0d3d03b8",
   "metadata": {},
   "source": [
    "<a id=\"define-model-input-output\"></a>\n",
    "#### 💡 Define Model Input/Output\n",
    "\n"
   ]
  },
  {
   "cell_type": "markdown",
   "id": "aa9b72be",
   "metadata": {},
   "source": [
    "<details><summary><strong>📖 Click to Expand</strong></summary>\n",
    "\n",
    "We're working with a **binary classification task**.\n",
    "\n",
    "- **Inputs**: Each sample has 2 numerical features → shape `(n_samples, 2)`\n",
    "- **Outputs**: Binary labels — either 0 or 1\n",
    "\n",
    "Our model should:\n",
    "- Take a 2D input vector\n",
    "- Pass it through one or more layers\n",
    "- Output a **single probability** (between 0 and 1)\n",
    "- Use a **threshold** (e.g., 0.5) to classify as class 0 or 1\n",
    "\n",
    "This implies:\n",
    "- `Input dimension` = 2  \n",
    "- `Output dimension` = 1 (with sigmoid activation)\n",
    "\n",
    "</details>\n"
   ]
  },
  {
   "cell_type": "code",
   "execution_count": 4,
   "id": "db2df1de",
   "metadata": {},
   "outputs": [
    {
     "name": "stdout",
     "output_type": "stream",
     "text": [
      "Input shape (X_train): (800, 2)\n",
      "Output shape (y_train): (800,)\n"
     ]
    }
   ],
   "source": [
    "# Input and output shape check\n",
    "print(\"Input shape (X_train):\", X_train.shape)\n",
    "print(\"Output shape (y_train):\", y_train.shape)\n"
   ]
  },
  {
   "cell_type": "markdown",
   "id": "52bd0e21",
   "metadata": {},
   "source": [
    "[Back to the top](#table-of-contents)\n",
    "___\n"
   ]
  },
  {
   "cell_type": "markdown",
   "id": "b0ea645b",
   "metadata": {},
   "source": [
    "<a id=\"building-a-neural-network\"></a>\n",
    "# 🛠️ Building a Neural Network\n",
    "\n"
   ]
  },
  {
   "cell_type": "markdown",
   "id": "1a20bc6e",
   "metadata": {},
   "source": [
    "<a id=\"neurons-and-activations\"></a>\n",
    "#### 🔲 Neurons: Inputs, Weights, Biases, Activations\n",
    "\n"
   ]
  },
  {
   "cell_type": "markdown",
   "id": "09a996e8",
   "metadata": {},
   "source": [
    "<details><summary><strong>📖 Click to Expand</strong></summary>\n",
    "\n",
    "A **neuron** is the fundamental unit of a neural network. It performs three steps:\n",
    "\n",
    "1. Computes a **weighted sum** of its inputs:  \n",
    "   $$\n",
    "   z = w_1x_1 + w_2x_2 + \\dots + w_nx_n + b\n",
    "   $$\n",
    "\n",
    "2. Applies a **non-linear activation function** to this sum:  \n",
    "   $$\n",
    "   a = \\sigma(z)\n",
    "   $$\n",
    "\n",
    "3. Passes the output to the next layer or as final output\n",
    "\n",
    "**Common activation functions:**\n",
    "\n",
    "- **ReLU**:                                  \n",
    "  $$\\text{ReLU}(x) = \\max(0, x)$$  \n",
    "  Sparse, fast, and widely used for hidden layers.\n",
    "\n",
    "- **Sigmoid**:  \n",
    "  $$\\text{Sigmoid}(x) = \\frac{1}{1 + \\exp(-x)}$$  \n",
    "  Outputs values between 0 and 1 — useful for binary classification outputs.\n",
    "\n",
    "👉 In this notebook, we’ll use **ReLU for hidden layers**  \n",
    "and **sigmoid for the output layer**.\n",
    "\n",
    "</details>\n"
   ]
  },
  {
   "cell_type": "code",
   "execution_count": 5,
   "id": "96a717d4",
   "metadata": {},
   "outputs": [
    {
     "name": "stdout",
     "output_type": "stream",
     "text": [
      "Input vector (x): [ 0.5 -1.2]\n",
      "Weights (w): [ 0.7 -0.3]\n",
      "Bias (b): 0.1\n",
      "Weighted sum (z = w·x + b): 0.8099999999999999\n",
      "Activated output (ReLU applied): 0.8099999999999999\n"
     ]
    }
   ],
   "source": [
    "import numpy as np\n",
    "\n",
    "# Sample input with 2 features\n",
    "x = np.array([0.5, -1.2])\n",
    "print(\"Input vector (x):\", x)\n",
    "\n",
    "# Sample weights and bias\n",
    "w = np.array([0.7, -0.3])\n",
    "b = 0.1\n",
    "print(\"Weights (w):\", w)\n",
    "print(\"Bias (b):\", b)\n",
    "\n",
    "# Activation functions\n",
    "def relu(z):\n",
    "    return np.maximum(0, z)\n",
    "\n",
    "def sigmoid(z):\n",
    "    return 1 / (1 + np.exp(-z))\n",
    "\n",
    "# Step 1: Weighted sum (z)\n",
    "z = np.dot(w, x) + b\n",
    "print(\"Weighted sum (z = w·x + b):\", z)\n",
    "\n",
    "# Step 2: Activation\n",
    "a = relu(z)\n",
    "print(\"Activated output (ReLU applied):\", a);\n"
   ]
  },
  {
   "cell_type": "markdown",
   "id": "ac973efe",
   "metadata": {},
   "source": [
    "<a id=\"layers-and-architecture\"></a>\n",
    "#### 🔗 Layers and Architecture (Input, Hidden, Output)\n",
    "\n"
   ]
  },
  {
   "cell_type": "markdown",
   "id": "4966a881",
   "metadata": {},
   "source": [
    "<details><summary><strong>📖 Click to Expand</strong></summary>\n",
    "\n",
    "Neural networks are built by stacking **layers of neurons**.\n",
    "\n",
    "- The **input layer** receives raw feature values (e.g., 2 features per sample)\n",
    "- One or more **hidden layers** transform inputs using weights, biases, and activations\n",
    "- The **output layer** produces the final prediction (e.g., a probability between 0 and 1)\n",
    "\n",
    "Each layer computes the following:\n",
    "$$\n",
    "a^{[l]} = \\sigma(W^{[l]} \\cdot a^{[l-1]} + b^{[l]})\n",
    "$$\n",
    "\n",
    "Where:\n",
    "- $a^{[l-1]}$ is the output from the previous layer (or the input vector if $l=1$)  \n",
    "- $W^{[l]}$ and $b^{[l]}$ are the weight matrix and bias vector for layer $l$  \n",
    "- $\\sigma$ is the activation function (e.g., ReLU or sigmoid)\n",
    "\n",
    "You can think of a neural network as a **function composed of functions**, where each layer applies a transformation to the previous output.\n",
    "\n",
    "</details>\n"
   ]
  },
  {
   "cell_type": "code",
   "execution_count": 6,
   "id": "e78af6a9",
   "metadata": {},
   "outputs": [
    {
     "name": "stdout",
     "output_type": "stream",
     "text": [
      "Hidden layer output (a1): [0.9 0. ]\n",
      "Final output (a2): [0.63413559]\n"
     ]
    }
   ],
   "source": [
    "# Toy input sample (2 features)\n",
    "x_toy = np.array([0.6, -1.1])\n",
    "\n",
    "# Toy layer weights and biases\n",
    "W1_toy = np.array([[0.4, -0.6],\n",
    "                   [0.1,  0.8]])\n",
    "b1_toy = np.array([0.0, 0.2])\n",
    "\n",
    "W2_toy = np.array([[0.5, -0.9]])\n",
    "b2_toy = np.array([0.1])\n",
    "\n",
    "# Forward pass through toy 2-layer net\n",
    "z1_toy = np.dot(W1_toy, x_toy) + b1_toy\n",
    "a1_toy = relu(z1_toy)\n",
    "\n",
    "z2_toy = np.dot(W2_toy, a1_toy) + b2_toy\n",
    "a2_toy = sigmoid(z2_toy)\n",
    "\n",
    "print(\"Hidden layer output (a1):\", a1_toy)\n",
    "print(\"Final output (a2):\", a2_toy);\n"
   ]
  },
  {
   "cell_type": "code",
   "execution_count": 7,
   "id": "97a2bcaa",
   "metadata": {},
   "outputs": [
    {
     "data": {
      "image/png": "[encoded data removed]",
      "text/plain": [
       "<Figure size 1000x500 with 1 Axes>"
      ]
     },
     "metadata": {},
     "output_type": "display_data"
    }
   ],
   "source": [
    "def draw_labeled_net(x, W1, b1, W2, b2, a1, a2):\n",
    "    fig, ax = plt.subplots(figsize=(10, 5))\n",
    "    ax.axis('off')\n",
    "\n",
    "    coords = {\n",
    "        'x1': (0, 1), 'x2': (0, -1),\n",
    "        'h1': (2, 1), 'h2': (2, -1),\n",
    "        'y': (4, 0)\n",
    "    }\n",
    "\n",
    "    # Draw nodes\n",
    "    for name, (x_coord, y_coord) in coords.items():\n",
    "        color = 'lightgray' if name.startswith('x') else ('skyblue' if name.startswith('h') else 'lightgreen')\n",
    "        circle = plt.Circle((x_coord, y_coord), 0.2, color=color, ec='black', zorder=2)\n",
    "        ax.add_artist(circle)\n",
    "        ax.text(x_coord, y_coord, name, fontsize=12, ha='center', va='center', zorder=3)\n",
    "\n",
    "    # Draw edges with weights\n",
    "    for i, xi in enumerate(['x1', 'x2']):\n",
    "        for j, hj in enumerate(['h1', 'h2']):\n",
    "            x0, y0 = coords[xi]\n",
    "            x1, y1 = coords[hj]\n",
    "            weight = W1[j, i]\n",
    "            ax.annotate('', xy=(x1-0.25, y1), xytext=(x0+0.25, y0),\n",
    "                        arrowprops=dict(arrowstyle='->', lw=1.5))\n",
    "            label_offset = 0.15 if y1 > y0 else -0.15\n",
    "            ax.text((x0+x1)/2, (y0+y1)/2 + label_offset, f'{weight:.2f}', fontsize=9, ha='center')\n",
    "\n",
    "    for j, hj in enumerate(['h1', 'h2']):\n",
    "        x0, y0 = coords[hj]\n",
    "        x1, y1 = coords['y']\n",
    "        weight = W2[0, j]\n",
    "        ax.annotate('', xy=(x1-0.25, y1), xytext=(x0+0.25, y0),\n",
    "                    arrowprops=dict(arrowstyle='->', lw=1.5))\n",
    "        label_offset = 0.15 if y1 > y0 else -0.15\n",
    "        ax.text((x0+x1)/2, (y0+y1)/2 + label_offset, f'{weight:.2f}', fontsize=9, ha='center')\n",
    "\n",
    "    # Value labels — nudged away from node centers\n",
    "    ax.text(-0.7, 1, f\"x1 = {x[0]:.2f}\", fontsize=10, ha='left', va='center')\n",
    "    ax.text(-0.7, -1, f\"x2 = {x[1]:.2f}\", fontsize=10, ha='left', va='center')\n",
    "    ax.text(2.5, 1, f\"a1 = {a1[0]:.2f}\", fontsize=10, ha='left', va='center')\n",
    "    ax.text(2.5, -1, f\"a2 = {a1[1]:.2f}\", fontsize=10, ha='left', va='center')\n",
    "    ax.text(4.5, 0, f\"ŷ = {a2[0]:.2f}\", fontsize=10, ha='left', va='center')\n",
    "\n",
    "    plt.title(\"Toy Neural Network: Inputs → Hidden → Output\", fontsize=14)\n",
    "    plt.xlim(-1.5, 5.5)\n",
    "    plt.ylim(-2, 2)\n",
    "    plt.show();\n",
    "\n",
    "# Run it again with same toy values\n",
    "draw_labeled_net(x_toy, W1_toy, b1_toy, W2_toy, b2_toy, a1_toy, a2_toy)\n"
   ]
  },
  {
   "cell_type": "markdown",
   "id": "7c72da81",
   "metadata": {},
   "source": [
    "<a id=\"forward-propagation\"></a>\n",
    "#### 🔄 Forward Propagation\n",
    "\n"
   ]
  },
  {
   "cell_type": "markdown",
   "id": "159de185",
   "metadata": {},
   "source": [
    "<details><summary><strong>📖 Click to Expand</strong></summary>\n",
    "\n",
    "**Forward propagation** is the process of computing the output of a neural network given an input.\n",
    "\n",
    "It flows from input layer → hidden layers → output layer:\n",
    "\n",
    "For each layer:\n",
    "- Compute the **weighted sum**:  \n",
    "  $$\n",
    "  z^{[l]} = W^{[l]} \\cdot a^{[l-1]} + b^{[l]}\n",
    "  $$\n",
    "- Apply the **activation function**:  \n",
    "  $$\n",
    "  a^{[l]} = \\sigma(z^{[l]})\n",
    "  $$\n",
    "\n",
    "In our case:\n",
    "- Use **ReLU** in the hidden layer\n",
    "- Use **Sigmoid** in the output layer (for binary classification)\n",
    "\n",
    "The output after the final activation is the predicted probability \\( \\hat{y} \\).\n",
    "\n",
    "</details>\n"
   ]
  },
  {
   "cell_type": "code",
   "execution_count": 8,
   "id": "f239472d",
   "metadata": {},
   "outputs": [
    {
     "name": "stdout",
     "output_type": "stream",
     "text": [
      "z1 (weighted sums in hidden layer): [ 0.9  -0.62]\n",
      "a1 (after ReLU): [0.9 0. ]\n",
      "z2 (weighted sum at output): [0.55]\n",
      "ŷ (after Sigmoid): [0.63413559]\n"
     ]
    }
   ],
   "source": [
    "# Forward pass through toy network\n",
    "def relu(x):\n",
    "    return np.maximum(0, x)\n",
    "\n",
    "def sigmoid(x):\n",
    "    return 1 / (1 + np.exp(-x))\n",
    "\n",
    "# Layer 1: Hidden layer\n",
    "z1_toy = np.dot(W1_toy, x_toy) + b1_toy\n",
    "a1_toy = relu(z1_toy)\n",
    "\n",
    "# Layer 2: Output layer\n",
    "z2_toy = np.dot(W2_toy, a1_toy) + b2_toy\n",
    "a2_toy = sigmoid(z2_toy)\n",
    "\n",
    "# Display\n",
    "print(\"z1 (weighted sums in hidden layer):\", z1_toy)\n",
    "print(\"a1 (after ReLU):\", a1_toy)\n",
    "print(\"z2 (weighted sum at output):\", z2_toy)\n",
    "print(\"ŷ (after Sigmoid):\", a2_toy);\n"
   ]
  },
  {
   "cell_type": "markdown",
   "id": "33644d09",
   "metadata": {},
   "source": [
    "<a id=\"loss-functions\"></a>\n",
    "#### 📝 Loss Functions\n",
    "\n"
   ]
  },
  {
   "cell_type": "markdown",
   "id": "4abfecd9",
   "metadata": {},
   "source": [
    "<details><summary><strong>📖 Click to Expand</strong></summary>\n",
    "\n",
    "A **loss function** tells us how far the model's prediction $\\hat{y}$ is from the true label \\( y \\).\n",
    "\n",
    "For **binary classification**, two common choices are:\n",
    "\n",
    "\n",
    "\n",
    "**1. Binary Cross-Entropy Loss (Log Loss):**\n",
    "$$\n",
    "\\mathcal{L} = - \\left( y \\cdot \\log(\\hat{y}) + (1 - y) \\cdot \\log(1 - \\hat{y}) \\right)\n",
    "$$\n",
    "\n",
    "- Preferred for probability outputs (like with sigmoid)\n",
    "- Penalizes confident wrong predictions heavily\n",
    "\n",
    "**2. Mean Squared Error (MSE):**\n",
    "$$\n",
    "\\mathcal{L} = \\frac{1}{n} \\sum (y - \\hat{y})^2\n",
    "$$\n",
    "\n",
    "- Simpler but less effective for classification\n",
    "- Doesn’t penalize confidence as sharply\n",
    "\n",
    "📌 **We'll use Binary Cross-Entropy** in this notebook — it's standard for binary classification with sigmoid outputs.\n",
    "\n",
    "</details>\n"
   ]
  },
  {
   "cell_type": "code",
   "execution_count": 9,
   "id": "af0730b8",
   "metadata": {},
   "outputs": [
    {
     "name": "stdout",
     "output_type": "stream",
     "text": [
      "Binary Cross-Entropy Loss: [0.45549248]\n"
     ]
    }
   ],
   "source": [
    "# True label for this sample (manually set for demo)\n",
    "y_true = 1\n",
    "\n",
    "# Binary Cross-Entropy Loss\n",
    "def binary_cross_entropy(y_hat, y):\n",
    "    epsilon = 1e-9  # avoid log(0)\n",
    "    return - (y * np.log(y_hat + epsilon) + (1 - y) * np.log(1 - y_hat + epsilon))\n",
    "\n",
    "loss = binary_cross_entropy(a2_toy, y_true)\n",
    "print(\"Binary Cross-Entropy Loss:\", loss);\n"
   ]
  },
  {
   "cell_type": "markdown",
   "id": "8e353766",
   "metadata": {},
   "source": [
    "<a id=\"backpropagation\"></a>\n",
    "#### 🔁 Backpropagation (Chain Rule)\n",
    "\n"
   ]
  },
  {
   "cell_type": "markdown",
   "id": "f5a8b274",
   "metadata": {},
   "source": [
    "<details><summary><strong>📖 Click to Expand</strong></summary>\n",
    "\n",
    "**Backpropagation** is how a neural network learns.\n",
    "\n",
    "Once the forward pass produces a prediction ($\\hat{y}$), we compute how the loss changes with respect to each parameter — and adjust weights in the **opposite direction of the gradient**.\n",
    "\n",
    "This is powered by the **chain rule**:\n",
    "- Gradients are computed layer-by-layer starting from the loss\n",
    "- Each layer uses:\n",
    "  - Derivative of its activation function\n",
    "  - Gradient from the next layer\n",
    "  - Local input values (from forward pass)\n",
    "\n",
    "In our case:\n",
    "- Use **ReLU’** in the hidden layer\n",
    "- Use **Sigmoid’** in the output layer\n",
    "- Chain them to compute gradients for \\( W_2, b_2, W_1, b_1 \\)\n",
    "\n",
    "We'll implement this for **one sample**, numerically.\n",
    "\n",
    "</details>\n"
   ]
  },
  {
   "cell_type": "code",
   "execution_count": 10,
   "id": "69aaa157",
   "metadata": {},
   "outputs": [
    {
     "name": "stdout",
     "output_type": "stream",
     "text": [
      "Gradient dW2:\n",
      " [[-0.32927797 -0.        ]]\n",
      "Gradient db2: [-0.36586441]\n",
      "Gradient dW1:\n",
      " [[-0.10975932  0.20122542]\n",
      " [ 0.         -0.        ]]\n",
      "Gradient db1: [[-0.1829322  0.       ]]\n"
     ]
    }
   ],
   "source": [
    "# Derivatives\n",
    "def relu_deriv(z):\n",
    "    return (z > 0).astype(float)\n",
    "\n",
    "def sigmoid_deriv(z):\n",
    "    s = sigmoid(z)\n",
    "    return s * (1 - s)\n",
    "\n",
    "# True label\n",
    "y_true = 1\n",
    "\n",
    "# Backward pass\n",
    "dz2 = a2_toy - y_true                    # dL/dz2\n",
    "dW2 = dz2 * a1_toy[np.newaxis, :]       # dL/dW2\n",
    "db2 = dz2                               \n",
    "\n",
    "da1 = dz2 * W2_toy                       # dL/da1\n",
    "dz1 = da1 * relu_deriv(z1_toy)          # dL/dz1\n",
    "dW1 = np.outer(dz1, x_toy)              # dL/dW1\n",
    "db1 = dz1                               \n",
    "\n",
    "# Show gradients\n",
    "print(\"Gradient dW2:\\n\", dW2)\n",
    "print(\"Gradient db2:\", db2)\n",
    "print(\"Gradient dW1:\\n\", dW1)\n",
    "print(\"Gradient db1:\", db1);\n"
   ]
  },
  {
   "cell_type": "markdown",
   "id": "79355b17",
   "metadata": {},
   "source": [
    "<a id=\"gradient-descent\"></a>\n",
    "#### 🚀 Gradient Descent (SGD, Adam)\n",
    "\n"
   ]
  },
  {
   "cell_type": "markdown",
   "id": "4a20f20a",
   "metadata": {},
   "source": [
    "<details><summary><strong>📖 Click to Expand</strong></summary>\n",
    "\n",
    "Once we compute gradients using backpropagation, we **update the weights** to reduce loss.  \n",
    "This is the core of **gradient descent**:\n",
    "\n",
    "**Weight update rule:**\n",
    "$$\n",
    "\\theta := \\theta - \\eta \\cdot \\frac{\\partial \\mathcal{L}}{\\partial \\theta}\n",
    "$$\n",
    "\n",
    "\n",
    "Where:\n",
    "- $ \\theta $ = a parameter (like $ W $ or $ b $)  \n",
    "- $ \\eta $ = learning rate (step size)  \n",
    "- $ \\frac{\\partial \\mathcal{L}}{\\partial \\theta} $ = gradient of the loss with respect to that parameter\n",
    "\n",
    "**Variants:**\n",
    "- **SGD (Stochastic Gradient Descent)**: updates using one sample at a time  \n",
    "- **Adam**: adaptive learning rate + momentum, better for noisy/large-scale training\n",
    "\n",
    "📌 In this notebook, we’ll use **plain SGD** to keep things transparent.\n",
    "\n",
    "</details>\n"
   ]
  },
  {
   "cell_type": "code",
   "execution_count": 11,
   "id": "e7c7eb3f",
   "metadata": {},
   "outputs": [
    {
     "name": "stdout",
     "output_type": "stream",
     "text": [
      "Updated W1:\n",
      " [[ 0.41097593 -0.62012254]\n",
      " [ 0.1         0.8       ]]\n",
      "Updated b1: [0.01829322 0.2       ]\n",
      "Updated W2:\n",
      " [[ 0.5329278 -0.9      ]]\n",
      "Updated b2: [0.13658644]\n"
     ]
    }
   ],
   "source": [
    "# Make copies so we don't overwrite original toy weights\n",
    "W1_sgd = W1_toy.copy()\n",
    "b1_sgd = b1_toy.copy()\n",
    "W2_sgd = W2_toy.copy()\n",
    "b2_sgd = b2_toy.copy()\n",
    "\n",
    "# Learning rate\n",
    "lr = 0.1\n",
    "\n",
    "# Make sure gradients are shaped properly\n",
    "db1 = db1.squeeze()\n",
    "db2 = db2.squeeze()\n",
    "\n",
    "# Perform parameter updates using SGD\n",
    "W1_sgd -= lr * dW1\n",
    "b1_sgd -= lr * db1\n",
    "W2_sgd -= lr * dW2\n",
    "b2_sgd -= lr * db2\n",
    "\n",
    "# Show updated weights and biases\n",
    "print(\"Updated W1:\\n\", W1_sgd)\n",
    "print(\"Updated b1:\", b1_sgd)\n",
    "print(\"Updated W2:\\n\", W2_sgd)\n",
    "print(\"Updated b2:\", b2_sgd);\n"
   ]
  },
  {
   "cell_type": "markdown",
   "id": "eed13e4f",
   "metadata": {},
   "source": [
    "[Back to the top](#table-of-contents)\n",
    "___\n"
   ]
  },
  {
   "cell_type": "markdown",
   "id": "2e696de3",
   "metadata": {},
   "source": [
    "<a id=\"train-and-evaluate-the-model\"></a>\n",
    "# 🧪 Train & Evaluate the Model"
   ]
  },
  {
   "cell_type": "markdown",
   "id": "67eaa277",
   "metadata": {},
   "source": [
    "<a id=\"train-model-on-dataset\"></a>\n",
    "#### 🔁 Train Model on Dataset\n"
   ]
  },
  {
   "cell_type": "markdown",
   "id": "a85f8935",
   "metadata": {},
   "source": [
    "<details><summary><strong>📖 Click to Expand</strong></summary>\n",
    "\n",
    "This is the full training loop for a binary classification task using:\n",
    "\n",
    "- A 2-layer neural network:\n",
    "  - Hidden layer with ReLU activation\n",
    "  - Output layer with Sigmoid activation\n",
    "- Binary cross-entropy loss\n",
    "- Batch gradient descent (all samples at once)\n",
    "\n",
    "We'll record the loss at each epoch for later visualization.\n",
    "\n",
    "</details>\n"
   ]
  },
  {
   "cell_type": "code",
   "execution_count": 12,
   "id": "c7496360",
   "metadata": {},
   "outputs": [],
   "source": [
    "# Network configuration\n",
    "input_dim = X_train.shape[1]\n",
    "hidden_dim = 4\n",
    "output_dim = 1\n",
    "lr = 0.1\n",
    "epochs = 1000\n"
   ]
  },
  {
   "cell_type": "code",
   "execution_count": 13,
   "id": "ffe45b0e",
   "metadata": {},
   "outputs": [
    {
     "name": "stdout",
     "output_type": "stream",
     "text": [
      "Initial W1:\n",
      " [[ 0.04967142 -0.01382643]\n",
      " [ 0.06476885  0.15230299]\n",
      " [-0.02341534 -0.0234137 ]\n",
      " [ 0.15792128  0.07674347]]\n",
      "Initial b1: [0. 0. 0. 0.]\n",
      "Initial W2:\n",
      " [[-0.04694744  0.054256   -0.04634177 -0.04657298]]\n",
      "Initial b2: [0.]\n"
     ]
    }
   ],
   "source": [
    "# Weight initialization\n",
    "np.random.seed(42)\n",
    "W1 = np.random.randn(hidden_dim, input_dim) * 0.1\n",
    "b1 = np.zeros(hidden_dim)\n",
    "W2 = np.random.randn(output_dim, hidden_dim) * 0.1\n",
    "b2 = np.zeros(output_dim)\n",
    "\n",
    "print(\"Initial W1:\\n\", W1)\n",
    "print(\"Initial b1:\", b1)\n",
    "print(\"Initial W2:\\n\", W2)\n",
    "print(\"Initial b2:\", b2);\n"
   ]
  },
  {
   "cell_type": "code",
   "execution_count": 14,
   "id": "cdcf9b02",
   "metadata": {},
   "outputs": [],
   "source": [
    "# Activation + Loss Functions\n",
    "def relu(x):\n",
    "    return np.maximum(0, x)\n",
    "\n",
    "def relu_deriv(x):\n",
    "    return (x > 0).astype(float)\n",
    "\n",
    "def sigmoid(x):\n",
    "    return 1 / (1 + np.exp(-x))\n",
    "\n",
    "def sigmoid_deriv(x):\n",
    "    s = sigmoid(x)\n",
    "    return s * (1 - s)\n",
    "\n",
    "def binary_cross_entropy(y_hat, y):\n",
    "    eps = 1e-9\n",
    "    return -np.mean(y * np.log(y_hat + eps) + (1 - y) * np.log(1 - y_hat + eps))\n"
   ]
  },
  {
   "cell_type": "code",
   "execution_count": 15,
   "id": "2bba535a",
   "metadata": {},
   "outputs": [
    {
     "name": "stdout",
     "output_type": "stream",
     "text": [
      "Epoch 0 — Loss: 0.6951\n",
      "Sample predictions: [0.497 0.5   0.502 0.501 0.499]\n",
      "Epoch 100 — Loss: 0.6870\n",
      "Sample predictions: [0.516 0.494 0.497 0.498 0.501]\n",
      "Epoch 200 — Loss: 0.4993\n",
      "Sample predictions: [0.773 0.341 0.325 0.34  0.571]\n",
      "Epoch 300 — Loss: 0.3240\n",
      "Sample predictions: [0.866 0.111 0.062 0.081 0.703]\n",
      "Epoch 400 — Loss: 0.2943\n",
      "Sample predictions: [0.839 0.074 0.025 0.036 0.792]\n",
      "Epoch 500 — Loss: 0.2885\n",
      "Sample predictions: [0.825 0.059 0.015 0.024 0.828]\n",
      "Epoch 600 — Loss: 0.2872\n",
      "Sample predictions: [0.822 0.051 0.012 0.019 0.841]\n",
      "Epoch 700 — Loss: 0.2867\n",
      "Sample predictions: [0.821 0.047 0.01  0.016 0.846]\n",
      "Epoch 800 — Loss: 0.2865\n",
      "Sample predictions: [0.821 0.046 0.009 0.015 0.848]\n",
      "Epoch 900 — Loss: 0.2864\n",
      "Sample predictions: [0.821 0.046 0.008 0.015 0.849]\n"
     ]
    }
   ],
   "source": [
    "# Training Loop — Forward, Backward, Update\n",
    "losses = []\n",
    "\n",
    "for epoch in range(epochs):\n",
    "    # Forward pass\n",
    "    z1 = X_train @ W1.T + b1\n",
    "    a1 = relu(z1)\n",
    "    z2 = a1 @ W2.T + b2\n",
    "    a2 = sigmoid(z2).squeeze()\n",
    "\n",
    "    # Compute loss\n",
    "    loss = binary_cross_entropy(a2, y_train)\n",
    "    losses.append(loss)\n",
    "\n",
    "    if epoch % 100 == 0:\n",
    "        print(f\"Epoch {epoch} — Loss: {loss:.4f}\")\n",
    "        print(\"Sample predictions:\", np.round(a2[:5], 3))\n",
    "\n",
    "    # Backward pass\n",
    "    dz2 = a2 - y_train\n",
    "    dW2 = (dz2[:, None] * a1).mean(axis=0, keepdims=True)\n",
    "    db2 = dz2.mean()\n",
    "\n",
    "    da1 = dz2[:, None] @ W2\n",
    "    dz1 = da1 * relu_deriv(z1)\n",
    "    dW1 = (dz1.T @ X_train) / X_train.shape[0]\n",
    "    db1 = dz1.mean(axis=0)\n",
    "\n",
    "    # Update weights\n",
    "    W1 -= lr * dW1\n",
    "    b1 -= lr * db1\n",
    "    W2 -= lr * dW2\n",
    "    b2 -= lr * db2\n"
   ]
  },
  {
   "cell_type": "markdown",
   "id": "3b0611f4",
   "metadata": {},
   "source": [
    "<a id=\"visualize-training-loss\"></a>\n",
    "#### 📉 Visualize Training Loss\n",
    "\n"
   ]
  },
  {
   "cell_type": "markdown",
   "id": "e19d9ec9",
   "metadata": {},
   "source": [
    "<details><summary><strong>📖 Click to Expand</strong></summary>\n",
    "\n",
    "Tracking the loss curve helps verify whether the network is actually learning.  \n",
    "We expect to see a **downward trend** if training is working correctly.\n",
    "\n",
    "If the loss plateaus or explodes:\n",
    "- Check learning rate\n",
    "- Check gradient flow (activation functions, initialization, etc.)\n",
    "\n",
    "</details>\n"
   ]
  },
  {
   "cell_type": "markdown",
   "id": "5ae028ea",
   "metadata": {},
   "source": []
  },
  {
   "cell_type": "code",
   "execution_count": 16,
   "id": "4681921e",
   "metadata": {},
   "outputs": [
    {
     "data": {
      "application/vnd.plotly.v1+json": {
       "config": {
        "plotlyServerURL": "https://plot.ly"
       },
       "data": [
        {
         "hovertemplate": "Epoch %{x}<br>Loss %{y:.4f}<extra></extra>",
         "line": {
          "color": "royalblue"
         },
         "mode": "lines",
         "name": "Training Loss",
         "type": "scatter",
         "y": [
          0.6951,
          0.695,
          0.6949,
          0.6948,
          0.6947,
          0.6946,
          0.6945,
          0.6945,
          0.6944,
          0.6943,
          0.6942,
          0.6942,
          0.6941,
          0.6941,
          0.694,
          0.694,
          0.6939,
          0.6939,
          0.6938,
          0.6938,
          0.6937,
          0.6937,
          0.6936,
          0.6936,
          0.6935,
          0.6935,
          0.6935,
          0.6934,
          0.6934,
          0.6934,
          0.6933,
          0.6933,
          0.6933,
          0.6932,
          0.6932,
          0.6932,
          0.6931,
          0.6931,
          0.6931,
          0.693,
          0.693,
          0.693,
          0.6929,
          0.6929,
          0.6929,
          0.6928,
          0.6928,
          0.6928,
          0.6927,
          0.6927,
          0.6927,
          0.6926,
          0.6926,
          0.6926,
          0.6925,
          0.6925,
          0.6924,
          0.6924,
          0.6923,
          0.6923,
          0.6922,
          0.6922,
          0.6921,
          0.6921,
          0.692,
          0.692,
          0.6919,
          0.6918,
          0.6918,
          0.6917,
          0.6916,
          0.6915,
          0.6915,
          0.6914,
          0.6913,
          0.6912,
          0.6911,
          0.691,
          0.6909,
          0.6908,
          0.6907,
          0.6906,
          0.6905,
          0.6903,
          0.6902,
          0.69,
          0.6899,
          0.6898,
          0.6896,
          0.6894,
          0.6892,
          0.6891,
          0.6889,
          0.6887,
          0.6885,
          0.6882,
          0.688,
          0.6878,
          0.6875,
          0.6873,
          0.687,
          0.6867,
          0.6864,
          0.6861,
          0.6858,
          0.6854,
          0.6851,
          0.6847,
          0.6843,
          0.6839,
          0.6835,
          0.683,
          0.6826,
          0.6821,
          0.6816,
          0.681,
          0.6805,
          0.6799,
          0.6793,
          0.6787,
          0.6781,
          0.6774,
          0.6767,
          0.676,
          0.6752,
          0.6744,
          0.6736,
          0.6727,
          0.6719,
          0.6709,
          0.67,
          0.669,
          0.668,
          0.6669,
          0.6658,
          0.6647,
          0.6635,
          0.6623,
          0.661,
          0.6597,
          0.6584,
          0.657,
          0.6555,
          0.654,
          0.6525,
          0.6509,
          0.6493,
          0.6476,
          0.6458,
          0.6441,
          0.6422,
          0.6403,
          0.6384,
          0.6364,
          0.6344,
          0.6323,
          0.6301,
          0.6279,
          0.6256,
          0.6233,
          0.621,
          0.6186,
          0.6161,
          0.6136,
          0.6111,
          0.6085,
          0.6058,
          0.6032,
          0.6004,
          0.5976,
          0.5948,
          0.592,
          0.5891,
          0.5861,
          0.5832,
          0.5802,
          0.5771,
          0.5741,
          0.571,
          0.5679,
          0.5647,
          0.5615,
          0.5583,
          0.5551,
          0.5519,
          0.5486,
          0.5454,
          0.5421,
          0.5388,
          0.5355,
          0.5322,
          0.5289,
          0.5256,
          0.5223,
          0.519,
          0.5157,
          0.5124,
          0.5091,
          0.5058,
          0.5025,
          0.4993,
          0.496,
          0.4928,
          0.4896,
          0.4864,
          0.4832,
          0.4801,
          0.4769,
          0.4738,
          0.4708,
          0.4677,
          0.4647,
          0.4617,
          0.4588,
          0.4558,
          0.453,
          0.4501,
          0.4473,
          0.4445,
          0.4417,
          0.439,
          0.4363,
          0.4337,
          0.4311,
          0.4285,
          0.426,
          0.4235,
          0.4211,
          0.4186,
          0.4163,
          0.4139,
          0.4117,
          0.4094,
          0.4072,
          0.405,
          0.4029,
          0.4008,
          0.3987,
          0.3967,
          0.3947,
          0.3927,
          0.3908,
          0.389,
          0.3871,
          0.3853,
          0.3836,
          0.3818,
          0.3801,
          0.3785,
          0.3768,
          0.3752,
          0.3736,
          0.3721,
          0.3706,
          0.3691,
          0.3676,
          0.3662,
          0.3648,
          0.3634,
          0.3621,
          0.3607,
          0.3594,
          0.3582,
          0.3569,
          0.3557,
          0.3545,
          0.3533,
          0.3521,
          0.351,
          0.3499,
          0.3488,
          0.3477,
          0.3467,
          0.3456,
          0.3446,
          0.3436,
          0.3426,
          0.3417,
          0.3407,
          0.3398,
          0.3389,
          0.338,
          0.3372,
          0.3363,
          0.3355,
          0.3347,
          0.3339,
          0.3331,
          0.3323,
          0.3315,
          0.3308,
          0.3301,
          0.3293,
          0.3286,
          0.3279,
          0.3273,
          0.3266,
          0.3259,
          0.3253,
          0.3247,
          0.324,
          0.3234,
          0.3228,
          0.3222,
          0.3216,
          0.3211,
          0.3205,
          0.3199,
          0.3194,
          0.3189,
          0.3183,
          0.3178,
          0.3173,
          0.3168,
          0.3163,
          0.3158,
          0.3153,
          0.3149,
          0.3144,
          0.3139,
          0.3135,
          0.3131,
          0.3126,
          0.3122,
          0.3118,
          0.3114,
          0.311,
          0.3106,
          0.3102,
          0.3098,
          0.3094,
          0.3091,
          0.3087,
          0.3083,
          0.308,
          0.3076,
          0.3073,
          0.307,
          0.3066,
          0.3063,
          0.306,
          0.3057,
          0.3054,
          0.3051,
          0.3048,
          0.3045,
          0.3042,
          0.3039,
          0.3036,
          0.3034,
          0.3031,
          0.3028,
          0.3026,
          0.3023,
          0.3021,
          0.3018,
          0.3016,
          0.3014,
          0.3011,
          0.3009,
          0.3007,
          0.3005,
          0.3003,
          0.3001,
          0.2998,
          0.2996,
          0.2994,
          0.2993,
          0.2991,
          0.2989,
          0.2987,
          0.2985,
          0.2983,
          0.2981,
          0.298,
          0.2978,
          0.2976,
          0.2975,
          0.2973,
          0.2971,
          0.297,
          0.2968,
          0.2967,
          0.2965,
          0.2964,
          0.2962,
          0.2961,
          0.2959,
          0.2958,
          0.2956,
          0.2955,
          0.2954,
          0.2953,
          0.2951,
          0.295,
          0.2949,
          0.2948,
          0.2946,
          0.2945,
          0.2944,
          0.2943,
          0.2942,
          0.2941,
          0.294,
          0.2938,
          0.2937,
          0.2936,
          0.2935,
          0.2934,
          0.2933,
          0.2932,
          0.2931,
          0.293,
          0.2929,
          0.2928,
          0.2927,
          0.2927,
          0.2926,
          0.2925,
          0.2924,
          0.2923,
          0.2922,
          0.2921,
          0.2921,
          0.292,
          0.2919,
          0.2918,
          0.2917,
          0.2917,
          0.2916,
          0.2915,
          0.2914,
          0.2914,
          0.2913,
          0.2912,
          0.2912,
          0.2911,
          0.291,
          0.291,
          0.2909,
          0.2909,
          0.2908,
          0.2907,
          0.2907,
          0.2906,
          0.2906,
          0.2905,
          0.2904,
          0.2904,
          0.2903,
          0.2903,
          0.2902,
          0.2902,
          0.2901,
          0.2901,
          0.29,
          0.29,
          0.2899,
          0.2899,
          0.2899,
          0.2898,
          0.2898,
          0.2897,
          0.2897,
          0.2896,
          0.2896,
          0.2896,
          0.2895,
          0.2895,
          0.2894,
          0.2894,
          0.2894,
          0.2893,
          0.2893,
          0.2892,
          0.2892,
          0.2892,
          0.2891,
          0.2891,
          0.2891,
          0.289,
          0.289,
          0.289,
          0.2889,
          0.2889,
          0.2889,
          0.2889,
          0.2888,
          0.2888,
          0.2888,
          0.2887,
          0.2887,
          0.2887,
          0.2887,
          0.2886,
          0.2886,
          0.2886,
          0.2886,
          0.2885,
          0.2885,
          0.2885,
          0.2885,
          0.2884,
          0.2884,
          0.2884,
          0.2884,
          0.2884,
          0.2883,
          0.2883,
          0.2883,
          0.2883,
          0.2883,
          0.2882,
          0.2882,
          0.2882,
          0.2882,
          0.2882,
          0.2881,
          0.2881,
          0.2881,
          0.2881,
          0.2881,
          0.288,
          0.288,
          0.288,
          0.288,
          0.288,
          0.288,
          0.2879,
          0.2879,
          0.2879,
          0.2879,
          0.2879,
          0.2879,
          0.2879,
          0.2878,
          0.2878,
          0.2878,
          0.2878,
          0.2878,
          0.2878,
          0.2878,
          0.2877,
          0.2877,
          0.2877,
          0.2877,
          0.2877,
          0.2877,
          0.2877,
          0.2877,
          0.2876,
          0.2876,
          0.2876,
          0.2876,
          0.2876,
          0.2876,
          0.2876,
          0.2876,
          0.2875,
          0.2875,
          0.2875,
          0.2875,
          0.2875,
          0.2875,
          0.2875,
          0.2875,
          0.2875,
          0.2875,
          0.2874,
          0.2874,
          0.2874,
          0.2874,
          0.2874,
          0.2874,
          0.2874,
          0.2874,
          0.2874,
          0.2874,
          0.2874,
          0.2873,
          0.2873,
          0.2873,
          0.2873,
          0.2873,
          0.2873,
          0.2873,
          0.2873,
          0.2873,
          0.2873,
          0.2873,
          0.2873,
          0.2873,
          0.2872,
          0.2872,
          0.2872,
          0.2872,
          0.2872,
          0.2872,
          0.2872,
          0.2872,
          0.2872,
          0.2872,
          0.2872,
          0.2872,
          0.2872,
          0.2872,
          0.2872,
          0.2871,
          0.2871,
          0.2871,
          0.2871,
          0.2871,
          0.2871,
          0.2871,
          0.2871,
          0.2871,
          0.2871,
          0.2871,
          0.2871,
          0.2871,
          0.2871,
          0.2871,
          0.2871,
          0.287,
          0.287,
          0.287,
          0.287,
          0.287,
          0.287,
          0.287,
          0.287,
          0.287,
          0.287,
          0.287,
          0.287,
          0.287,
          0.287,
          0.287,
          0.287,
          0.287,
          0.287,
          0.287,
          0.287,
          0.2869,
          0.2869,
          0.2869,
          0.2869,
          0.2869,
          0.2869,
          0.2869,
          0.2869,
          0.2869,
          0.2869,
          0.2869,
          0.2869,
          0.2869,
          0.2869,
          0.2869,
          0.2869,
          0.2869,
          0.2869,
          0.2869,
          0.2869,
          0.2869,
          0.2869,
          0.2869,
          0.2869,
          0.2868,
          0.2868,
          0.2868,
          0.2868,
          0.2868,
          0.2868,
          0.2868,
          0.2868,
          0.2868,
          0.2868,
          0.2868,
          0.2868,
          0.2868,
          0.2868,
          0.2868,
          0.2868,
          0.2868,
          0.2868,
          0.2868,
          0.2868,
          0.2868,
          0.2868,
          0.2868,
          0.2868,
          0.2868,
          0.2868,
          0.2868,
          0.2868,
          0.2868,
          0.2867,
          0.2867,
          0.2867,
          0.2867,
          0.2867,
          0.2867,
          0.2867,
          0.2867,
          0.2867,
          0.2867,
          0.2867,
          0.2867,
          0.2867,
          0.2867,
          0.2867,
          0.2867,
          0.2867,
          0.2867,
          0.2867,
          0.2867,
          0.2867,
          0.2867,
          0.2867,
          0.2867,
          0.2867,
          0.2867,
          0.2867,
          0.2867,
          0.2867,
          0.2867,
          0.2867,
          0.2867,
          0.2867,
          0.2867,
          0.2867,
          0.2867,
          0.2867,
          0.2866,
          0.2866,
          0.2866,
          0.2866,
          0.2866,
          0.2866,
          0.2866,
          0.2866,
          0.2866,
          0.2866,
          0.2866,
          0.2866,
          0.2866,
          0.2866,
          0.2866,
          0.2866,
          0.2866,
          0.2866,
          0.2866,
          0.2866,
          0.2866,
          0.2866,
          0.2866,
          0.2866,
          0.2866,
          0.2866,
          0.2866,
          0.2866,
          0.2866,
          0.2866,
          0.2866,
          0.2866,
          0.2866,
          0.2866,
          0.2866,
          0.2866,
          0.2866,
          0.2866,
          0.2866,
          0.2866,
          0.2866,
          0.2866,
          0.2866,
          0.2866,
          0.2866,
          0.2866,
          0.2866,
          0.2866,
          0.2865,
          0.2865,
          0.2865,
          0.2865,
          0.2865,
          0.2865,
          0.2865,
          0.2865,
          0.2865,
          0.2865,
          0.2865,
          0.2865,
          0.2865,
          0.2865,
          0.2865,
          0.2865,
          0.2865,
          0.2865,
          0.2865,
          0.2865,
          0.2865,
          0.2865,
          0.2865,
          0.2865,
          0.2865,
          0.2865,
          0.2865,
          0.2865,
          0.2865,
          0.2865,
          0.2865,
          0.2865,
          0.2865,
          0.2865,
          0.2865,
          0.2865,
          0.2865,
          0.2865,
          0.2865,
          0.2865,
          0.2865,
          0.2865,
          0.2865,
          0.2865,
          0.2865,
          0.2865,
          0.2865,
          0.2865,
          0.2865,
          0.2865,
          0.2865,
          0.2865,
          0.2865,
          0.2865,
          0.2865,
          0.2865,
          0.2865,
          0.2865,
          0.2865,
          0.2865,
          0.2865,
          0.2864,
          0.2864,
          0.2864,
          0.2864,
          0.2864,
          0.2864,
          0.2864,
          0.2864,
          0.2864,
          0.2864,
          0.2864,
          0.2864,
          0.2864,
          0.2864,
          0.2864,
          0.2864,
          0.2864,
          0.2864,
          0.2864,
          0.2864,
          0.2864,
          0.2864,
          0.2864,
          0.2864,
          0.2864,
          0.2864,
          0.2864,
          0.2864,
          0.2864,
          0.2864,
          0.2864,
          0.2864,
          0.2864,
          0.2864,
          0.2864,
          0.2864,
          0.2864,
          0.2864,
          0.2864,
          0.2864,
          0.2864,
          0.2864,
          0.2864,
          0.2864,
          0.2864,
          0.2864,
          0.2864,
          0.2864,
          0.2864,
          0.2864,
          0.2864,
          0.2864,
          0.2864,
          0.2864,
          0.2864,
          0.2864,
          0.2864,
          0.2864,
          0.2864,
          0.2864,
          0.2864,
          0.2864,
          0.2864,
          0.2864,
          0.2864,
          0.2864,
          0.2864,
          0.2864,
          0.2864,
          0.2864,
          0.2864,
          0.2864,
          0.2864,
          0.2864,
          0.2864,
          0.2864,
          0.2864,
          0.2864,
          0.2864,
          0.2864,
          0.2864,
          0.2864,
          0.2864,
          0.2864,
          0.2863,
          0.2863,
          0.2863,
          0.2863,
          0.2863,
          0.2863,
          0.2863,
          0.2863,
          0.2863,
          0.2863,
          0.2863,
          0.2863,
          0.2863,
          0.2863,
          0.2863,
          0.2863,
          0.2863,
          0.2863,
          0.2863,
          0.2863,
          0.2863,
          0.2863,
          0.2863,
          0.2863,
          0.2863,
          0.2863,
          0.2863,
          0.2863,
          0.2863,
          0.2863,
          0.2863,
          0.2863,
          0.2863,
          0.2863,
          0.2863,
          0.2863,
          0.2863,
          0.2863,
          0.2863,
          0.2863,
          0.2863,
          0.2863,
          0.2863,
          0.2863,
          0.2863,
          0.2863,
          0.2863,
          0.2863,
          0.2863,
          0.2863,
          0.2863,
          0.2863,
          0.2863,
          0.2863,
          0.2863,
          0.2863,
          0.2863,
          0.2863,
          0.2863,
          0.2863,
          0.2863,
          0.2863,
          0.2863,
          0.2863,
          0.2863,
          0.2863,
          0.2863,
          0.2863,
          0.2863,
          0.2863,
          0.2863,
          0.2863,
          0.2863,
          0.2863
         ]
        }
       ],
       "layout": {
        "height": 400,
        "template": {
         "data": {
          "bar": [
           {
            "error_x": {
             "color": "#2a3f5f"
            },
            "error_y": {
             "color": "#2a3f5f"
            },
            "marker": {
             "line": {
              "color": "white",
              "width": 0.5
             },
             "pattern": {
              "fillmode": "overlay",
              "size": 10,
              "solidity": 0.2
             }
            },
            "type": "bar"
           }
          ],
          "barpolar": [
           {
            "marker": {
             "line": {
              "color": "white",
              "width": 0.5
             },
             "pattern": {
              "fillmode": "overlay",
              "size": 10,
              "solidity": 0.2
             }
            },
            "type": "barpolar"
           }
          ],
          "carpet": [
           {
            "aaxis": {
             "endlinecolor": "#2a3f5f",
             "gridcolor": "#C8D4E3",
             "linecolor": "#C8D4E3",
             "minorgridcolor": "#C8D4E3",
             "startlinecolor": "#2a3f5f"
            },
            "baxis": {
             "endlinecolor": "#2a3f5f",
             "gridcolor": "#C8D4E3",
             "linecolor": "#C8D4E3",
             "minorgridcolor": "#C8D4E3",
             "startlinecolor": "#2a3f5f"
            },
            "type": "carpet"
           }
          ],
          "choropleth": [
           {
            "colorbar": {
             "outlinewidth": 0,
             "ticks": ""
            },
            "type": "choropleth"
           }
          ],
          "contour": [
           {
            "colorbar": {
             "outlinewidth": 0,
             "ticks": ""
            },
            "colorscale": [
             [
              0,
              "#0d0887"
             ],
             [
              0.1111111111111111,
              "#46039f"
             ],
             [
              0.2222222222222222,
              "#7201a8"
             ],
             [
              0.3333333333333333,
              "#9c179e"
             ],
             [
              0.4444444444444444,
              "#bd3786"
             ],
             [
              0.5555555555555556,
              "#d8576b"
             ],
             [
              0.6666666666666666,
              "#ed7953"
             ],
             [
              0.7777777777777778,
              "#fb9f3a"
             ],
             [
              0.8888888888888888,
              "#fdca26"
             ],
             [
              1,
              "#f0f921"
             ]
            ],
            "type": "contour"
           }
          ],
          "contourcarpet": [
           {
            "colorbar": {
             "outlinewidth": 0,
             "ticks": ""
            },
            "type": "contourcarpet"
           }
          ],
          "heatmap": [
           {
            "colorbar": {
             "outlinewidth": 0,
             "ticks": ""
            },
            "colorscale": [
             [
              0,
              "#0d0887"
             ],
             [
              0.1111111111111111,
              "#46039f"
             ],
             [
              0.2222222222222222,
              "#7201a8"
             ],
             [
              0.3333333333333333,
              "#9c179e"
             ],
             [
              0.4444444444444444,
              "#bd3786"
             ],
             [
              0.5555555555555556,
              "#d8576b"
             ],
             [
              0.6666666666666666,
              "#ed7953"
             ],
             [
              0.7777777777777778,
              "#fb9f3a"
             ],
             [
              0.8888888888888888,
              "#fdca26"
             ],
             [
              1,
              "#f0f921"
             ]
            ],
            "type": "heatmap"
           }
          ],
          "heatmapgl": [
           {
            "colorbar": {
             "outlinewidth": 0,
             "ticks": ""
            },
            "colorscale": [
             [
              0,
              "#0d0887"
             ],
             [
              0.1111111111111111,
              "#46039f"
             ],
             [
              0.2222222222222222,
              "#7201a8"
             ],
             [
              0.3333333333333333,
              "#9c179e"
             ],
             [
              0.4444444444444444,
              "#bd3786"
             ],
             [
              0.5555555555555556,
              "#d8576b"
             ],
             [
              0.6666666666666666,
              "#ed7953"
             ],
             [
              0.7777777777777778,
              "#fb9f3a"
             ],
             [
              0.8888888888888888,
              "#fdca26"
             ],
             [
              1,
              "#f0f921"
             ]
            ],
            "type": "heatmapgl"
           }
          ],
          "histogram": [
           {
            "marker": {
             "pattern": {
              "fillmode": "overlay",
              "size": 10,
              "solidity": 0.2
             }
            },
            "type": "histogram"
           }
          ],
          "histogram2d": [
           {
            "colorbar": {
             "outlinewidth": 0,
             "ticks": ""
            },
            "colorscale": [
             [
              0,
              "#0d0887"
             ],
             [
              0.1111111111111111,
              "#46039f"
             ],
             [
              0.2222222222222222,
              "#7201a8"
             ],
             [
              0.3333333333333333,
              "#9c179e"
             ],
             [
              0.4444444444444444,
              "#bd3786"
             ],
             [
              0.5555555555555556,
              "#d8576b"
             ],
             [
              0.6666666666666666,
              "#ed7953"
             ],
             [
              0.7777777777777778,
              "#fb9f3a"
             ],
             [
              0.8888888888888888,
              "#fdca26"
             ],
             [
              1,
              "#f0f921"
             ]
            ],
            "type": "histogram2d"
           }
          ],
          "histogram2dcontour": [
           {
            "colorbar": {
             "outlinewidth": 0,
             "ticks": ""
            },
            "colorscale": [
             [
              0,
              "#0d0887"
             ],
             [
              0.1111111111111111,
              "#46039f"
             ],
             [
              0.2222222222222222,
              "#7201a8"
             ],
             [
              0.3333333333333333,
              "#9c179e"
             ],
             [
              0.4444444444444444,
              "#bd3786"
             ],
             [
              0.5555555555555556,
              "#d8576b"
             ],
             [
              0.6666666666666666,
              "#ed7953"
             ],
             [
              0.7777777777777778,
              "#fb9f3a"
             ],
             [
              0.8888888888888888,
              "#fdca26"
             ],
             [
              1,
              "#f0f921"
             ]
            ],
            "type": "histogram2dcontour"
           }
          ],
          "mesh3d": [
           {
            "colorbar": {
             "outlinewidth": 0,
             "ticks": ""
            },
            "type": "mesh3d"
           }
          ],
          "parcoords": [
           {
            "line": {
             "colorbar": {
              "outlinewidth": 0,
              "ticks": ""
             }
            },
            "type": "parcoords"
           }
          ],
          "pie": [
           {
            "automargin": true,
            "type": "pie"
           }
          ],
          "scatter": [
           {
            "fillpattern": {
             "fillmode": "overlay",
             "size": 10,
             "solidity": 0.2
            },
            "type": "scatter"
           }
          ],
          "scatter3d": [
           {
            "line": {
             "colorbar": {
              "outlinewidth": 0,
              "ticks": ""
             }
            },
            "marker": {
             "colorbar": {
              "outlinewidth": 0,
              "ticks": ""
             }
            },
            "type": "scatter3d"
           }
          ],
          "scattercarpet": [
           {
            "marker": {
             "colorbar": {
              "outlinewidth": 0,
              "ticks": ""
             }
            },
            "type": "scattercarpet"
           }
          ],
          "scattergeo": [
           {
            "marker": {
             "colorbar": {
              "outlinewidth": 0,
              "ticks": ""
             }
            },
            "type": "scattergeo"
           }
          ],
          "scattergl": [
           {
            "marker": {
             "colorbar": {
              "outlinewidth": 0,
              "ticks": ""
             }
            },
            "type": "scattergl"
           }
          ],
          "scattermapbox": [
           {
            "marker": {
             "colorbar": {
              "outlinewidth": 0,
              "ticks": ""
             }
            },
            "type": "scattermapbox"
           }
          ],
          "scatterpolar": [
           {
            "marker": {
             "colorbar": {
              "outlinewidth": 0,
              "ticks": ""
             }
            },
            "type": "scatterpolar"
           }
          ],
          "scatterpolargl": [
           {
            "marker": {
             "colorbar": {
              "outlinewidth": 0,
              "ticks": ""
             }
            },
            "type": "scatterpolargl"
           }
          ],
          "scatterternary": [
           {
            "marker": {
             "colorbar": {
              "outlinewidth": 0,
              "ticks": ""
             }
            },
            "type": "scatterternary"
           }
          ],
          "surface": [
           {
            "colorbar": {
             "outlinewidth": 0,
             "ticks": ""
            },
            "colorscale": [
             [
              0,
              "#0d0887"
             ],
             [
              0.1111111111111111,
              "#46039f"
             ],
             [
              0.2222222222222222,
              "#7201a8"
             ],
             [
              0.3333333333333333,
              "#9c179e"
             ],
             [
              0.4444444444444444,
              "#bd3786"
             ],
             [
              0.5555555555555556,
              "#d8576b"
             ],
             [
              0.6666666666666666,
              "#ed7953"
             ],
             [
              0.7777777777777778,
              "#fb9f3a"
             ],
             [
              0.8888888888888888,
              "#fdca26"
             ],
             [
              1,
              "#f0f921"
             ]
            ],
            "type": "surface"
           }
          ],
          "table": [
           {
            "cells": {
             "fill": {
              "color": "#EBF0F8"
             },
             "line": {
              "color": "white"
             }
            },
            "header": {
             "fill": {
              "color": "#C8D4E3"
             },
             "line": {
              "color": "white"
             }
            },
            "type": "table"
           }
          ]
         },
         "layout": {
          "annotationdefaults": {
           "arrowcolor": "#2a3f5f",
           "arrowhead": 0,
           "arrowwidth": 1
          },
          "autotypenumbers": "strict",
          "coloraxis": {
           "colorbar": {
            "outlinewidth": 0,
            "ticks": ""
           }
          },
          "colorscale": {
           "diverging": [
            [
             0,
             "#8e0152"
            ],
            [
             0.1,
             "#c51b7d"
            ],
            [
             0.2,
             "#de77ae"
            ],
            [
             0.3,
             "#f1b6da"
            ],
            [
             0.4,
             "#fde0ef"
            ],
            [
             0.5,
             "#f7f7f7"
            ],
            [
             0.6,
             "#e6f5d0"
            ],
            [
             0.7,
             "#b8e186"
            ],
            [
             0.8,
             "#7fbc41"
            ],
            [
             0.9,
             "#4d9221"
            ],
            [
             1,
             "#276419"
            ]
           ],
           "sequential": [
            [
             0,
             "#0d0887"
            ],
            [
             0.1111111111111111,
             "#46039f"
            ],
            [
             0.2222222222222222,
             "#7201a8"
            ],
            [
             0.3333333333333333,
             "#9c179e"
            ],
            [
             0.4444444444444444,
             "#bd3786"
            ],
            [
             0.5555555555555556,
             "#d8576b"
            ],
            [
             0.6666666666666666,
             "#ed7953"
            ],
            [
             0.7777777777777778,
             "#fb9f3a"
            ],
            [
             0.8888888888888888,
             "#fdca26"
            ],
            [
             1,
             "#f0f921"
            ]
           ],
           "sequentialminus": [
            [
             0,
             "#0d0887"
            ],
            [
             0.1111111111111111,
             "#46039f"
            ],
            [
             0.2222222222222222,
             "#7201a8"
            ],
            [
             0.3333333333333333,
             "#9c179e"
            ],
            [
             0.4444444444444444,
             "#bd3786"
            ],
            [
             0.5555555555555556,
             "#d8576b"
            ],
            [
             0.6666666666666666,
             "#ed7953"
            ],
            [
             0.7777777777777778,
             "#fb9f3a"
            ],
            [
             0.8888888888888888,
             "#fdca26"
            ],
            [
             1,
             "#f0f921"
            ]
           ]
          },
          "colorway": [
           "#636efa",
           "#EF553B",
           "#00cc96",
           "#ab63fa",
           "#FFA15A",
           "#19d3f3",
           "#FF6692",
           "#B6E880",
           "#FF97FF",
           "#FECB52"
          ],
          "font": {
           "color": "#2a3f5f"
          },
          "geo": {
           "bgcolor": "white",
           "lakecolor": "white",
           "landcolor": "white",
           "showlakes": true,
           "showland": true,
           "subunitcolor": "#C8D4E3"
          },
          "hoverlabel": {
           "align": "left"
          },
          "hovermode": "closest",
          "mapbox": {
           "style": "light"
          },
          "paper_bgcolor": "white",
          "plot_bgcolor": "white",
          "polar": {
           "angularaxis": {
            "gridcolor": "#EBF0F8",
            "linecolor": "#EBF0F8",
            "ticks": ""
           },
           "bgcolor": "white",
           "radialaxis": {
            "gridcolor": "#EBF0F8",
            "linecolor": "#EBF0F8",
            "ticks": ""
           }
          },
          "scene": {
           "xaxis": {
            "backgroundcolor": "white",
            "gridcolor": "#DFE8F3",
            "gridwidth": 2,
            "linecolor": "#EBF0F8",
            "showbackground": true,
            "ticks": "",
            "zerolinecolor": "#EBF0F8"
           },
           "yaxis": {
            "backgroundcolor": "white",
            "gridcolor": "#DFE8F3",
            "gridwidth": 2,
            "linecolor": "#EBF0F8",
            "showbackground": true,
            "ticks": "",
            "zerolinecolor": "#EBF0F8"
           },
           "zaxis": {
            "backgroundcolor": "white",
            "gridcolor": "#DFE8F3",
            "gridwidth": 2,
            "linecolor": "#EBF0F8",
            "showbackground": true,
            "ticks": "",
            "zerolinecolor": "#EBF0F8"
           }
          },
          "shapedefaults": {
           "line": {
            "color": "#2a3f5f"
           }
          },
          "ternary": {
           "aaxis": {
            "gridcolor": "#DFE8F3",
            "linecolor": "#A2B1C6",
            "ticks": ""
           },
           "baxis": {
            "gridcolor": "#DFE8F3",
            "linecolor": "#A2B1C6",
            "ticks": ""
           },
           "bgcolor": "white",
           "caxis": {
            "gridcolor": "#DFE8F3",
            "linecolor": "#A2B1C6",
            "ticks": ""
           }
          },
          "title": {
           "x": 0.05
          },
          "xaxis": {
           "automargin": true,
           "gridcolor": "#EBF0F8",
           "linecolor": "#EBF0F8",
           "ticks": "",
           "title": {
            "standoff": 15
           },
           "zerolinecolor": "#EBF0F8",
           "zerolinewidth": 2
          },
          "yaxis": {
           "automargin": true,
           "gridcolor": "#EBF0F8",
           "linecolor": "#EBF0F8",
           "ticks": "",
           "title": {
            "standoff": 15
           },
           "zerolinecolor": "#EBF0F8",
           "zerolinewidth": 2
          }
         }
        },
        "title": {
         "text": "Loss Over Epochs"
        },
        "width": 700,
        "xaxis": {
         "title": {
          "text": "Epoch"
         }
        },
        "yaxis": {
         "title": {
          "text": "Binary Cross-Entropy Loss"
         }
        }
       }
      }
     },
     "metadata": {},
     "output_type": "display_data"
    }
   ],
   "source": [
    "import plotly.graph_objects as go\n",
    "\n",
    "fig = go.Figure(\n",
    "    data=[\n",
    "        go.Scatter(\n",
    "            y=[round(l, 4) for l in losses],\n",
    "            mode='lines',\n",
    "            name='Training Loss',\n",
    "            line=dict(color='royalblue'),\n",
    "            hovertemplate='Epoch %{x}<br>Loss %{y:.4f}<extra></extra>'\n",
    "        )\n",
    "    ],\n",
    "    layout=go.Layout(\n",
    "        title='Loss Over Epochs',\n",
    "        xaxis_title='Epoch',\n",
    "        yaxis_title='Binary Cross-Entropy Loss',\n",
    "        template='plotly_white',\n",
    "        width=700,\n",
    "        height=400\n",
    "    )\n",
    ")\n",
    "\n",
    "fig.show()\n"
   ]
  },
  {
   "cell_type": "markdown",
   "id": "858fd247",
   "metadata": {},
   "source": [
    "<a id=\"plot-decision-boundary\"></a>\n",
    "#### 📈 Plot Decision Boundary\n",
    "\n"
   ]
  },
  {
   "cell_type": "markdown",
   "id": "ca5f0880",
   "metadata": {},
   "source": [
    "<details><summary><strong>📖 Click to Expand</strong></summary>\n",
    "\n",
    "A decision boundary plot helps visualize how the trained model separates the two classes.\n",
    "\n",
    "We’ll generate a grid of input points, run them through the trained network, and color the regions based on predicted probability.\n",
    "\n",
    "If training was successful, we should see a smooth boundary that aligns with the class clusters.\n",
    "\n",
    "</details>\n"
   ]
  },
  {
   "cell_type": "code",
   "execution_count": 18,
   "id": "4fbad560",
   "metadata": {},
   "outputs": [
    {
     "data": {
      "image/png": "[encoded data removed]",
      "text/plain": [
       "<Figure size 700x600 with 2 Axes>"
      ]
     },
     "metadata": {},
     "output_type": "display_data"
    }
   ],
   "source": [
    "def plot_decision_boundary(X, y, W1, b1, W2, b2):\n",
    "    # Create mesh grid\n",
    "    x_min, x_max = X[:, 0].min() - 0.5, X[:, 0].max() + 0.5\n",
    "    y_min, y_max = X[:, 1].min() - 0.5, X[:, 1].max() + 0.5\n",
    "    xx, yy = np.meshgrid(np.linspace(x_min, x_max, 300),\n",
    "                         np.linspace(y_min, y_max, 300))\n",
    "    grid = np.c_[xx.ravel(), yy.ravel()]\n",
    "\n",
    "    # Predict probabilities for each point in grid\n",
    "    z1 = grid @ W1.T + b1\n",
    "    a1 = relu(z1)\n",
    "    z2 = a1 @ W2.T + b2\n",
    "    probs = sigmoid(z2).reshape(xx.shape)\n",
    "\n",
    "    # Plot\n",
    "    plt.figure(figsize=(7, 6))\n",
    "    contour = plt.contourf(xx, yy, probs, levels=50, cmap=\"coolwarm\", alpha=0.9)\n",
    "    plt.colorbar(contour, label=\"Predicted Probability (ŷ)\")\n",
    "    scatter = plt.scatter(X[:, 0], X[:, 1], c=y, cmap=\"coolwarm\", edgecolors='k', label='True Class')\n",
    "\n",
    "    plt.title(\"Decision Boundary of Trained Neural Network\")\n",
    "    plt.xlabel(\"Feature 1\")\n",
    "    plt.ylabel(\"Feature 2\")\n",
    "    plt.legend(loc=\"upper right\")\n",
    "    plt.tight_layout()\n",
    "    plt.show();\n",
    "\n",
    "# Run it\n",
    "plot_decision_boundary(X_train, y_train, W1, b1, W2, b2)\n"
   ]
  },
  {
   "cell_type": "markdown",
   "id": "7371d986",
   "metadata": {},
   "source": [
    "[Back to the top](#table-of-contents)\n",
    "___\n",
    "\n"
   ]
  },
  {
   "cell_type": "markdown",
   "id": "1677df81",
   "metadata": {},
   "source": [
    "<a id=\"closing-notes\"></a>\n",
    "# 🔚 Closing Notes\n",
    "\n"
   ]
  },
  {
   "cell_type": "markdown",
   "id": "395f5aec",
   "metadata": {},
   "source": [
    "<a id=\"common-pitfalls\"></a>\n",
    "#### ⚠️ Common Pitfalls\n",
    "\n"
   ]
  },
  {
   "cell_type": "markdown",
   "id": "72619ca4",
   "metadata": {},
   "source": [
    "<a id=\"best-practices\"></a>\n",
    "#### 🎯 Best Practices"
   ]
  },
  {
   "cell_type": "markdown",
   "id": "09f1999a",
   "metadata": {},
   "source": [
    "<details><summary><strong>📖 Click to Expand</strong></summary>\n",
    "\n",
    "##### ⚠️ Common Pitfalls & Best Practices (Side by Side)\n",
    "\n",
    "| Pitfall | Best Practice |\n",
    "|--------|---------------|\n",
    "| Using MSE loss for classification | Use **binary cross-entropy** with sigmoid |\n",
    "| Training with a single sample | Use **batch updates** or **mini-batches** |\n",
    "| Initializing weights too large | Use **small random weights**, e.g., $\\mathcal{N}(0, 0.01)$ |\n",
    "| Skipping non-linearity | Add **ReLU** or **tanh** between layers |\n",
    "| Overfitting to training data | Monitor **loss curve** and use validation/test splits |\n",
    "| Using too few hidden units | Start small (4–8) and scale if needed |\n",
    "| Expecting too much from shallow nets | Go **deeper**, not just wider, for complex tasks |\n",
    "\n",
    "</details>\n"
   ]
  },
  {
   "cell_type": "markdown",
   "id": "5df6fae1",
   "metadata": {},
   "source": [
    "<a id=\"what-next\"></a>\n",
    "#### 🔮 What Next (Toward Deep Learning & Text)\n",
    "\n"
   ]
  },
  {
   "cell_type": "markdown",
   "id": "23699e85",
   "metadata": {},
   "source": [
    "<details><summary><strong>📖 Click to Expand</strong></summary>\n",
    "\n",
    "Now that you’ve built and trained a neural network from scratch:\n",
    "\n",
    "✅ You understand how data flows  \n",
    "✅ You’ve written backprop manually  \n",
    "✅ You’ve visualized the decision boundary\n",
    "\n",
    "### Next Steps:\n",
    "\n",
    "- **Notebook 2**: Deepen the network — add layers, expand activation logic  \n",
    "- **Notebook 3**: Move from tabular to **sequential data** (text), and introduce **attention**\n",
    "- **Notebook 4 onward**: Scale your understanding to **transformers**, **LLMs**, and **fine-tuning**\n",
    "\n",
    "📌 From this point, you stop being a model consumer and start becoming a system builder.\n",
    "\n",
    "</details>\n"
   ]
  },
  {
   "cell_type": "markdown",
   "id": "4b74f28d",
   "metadata": {},
   "source": [
    "[Back to the top](#table-of-contents)\n",
    "___\n"
   ]
  }
 ],
 "metadata": {
  "kernelspec": {
   "display_name": "base",
   "language": "python",
   "name": "python3"
  },
  "language_info": {
   "codemirror_mode": {
    "name": "ipython",
    "version": 3
   },
   "file_extension": ".py",
   "mimetype": "text/x-python",
   "name": "python",
   "nbconvert_exporter": "python",
   "pygments_lexer": "ipython3",
   "version": "3.11.3"
  }
 },
 "nbformat": 4,
 "nbformat_minor": 5
}
