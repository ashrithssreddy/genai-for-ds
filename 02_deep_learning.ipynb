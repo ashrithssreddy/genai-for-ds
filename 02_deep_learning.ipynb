{
 "cells": [
  {
   "cell_type": "markdown",
   "id": "ed0f1556",
   "metadata": {},
   "source": [
    "<a id=\"table-of-contents\"></a>\n",
    "# 📖 Deep Learning\n",
    "\n",
    "- [🧠 What is Deep Learning?](#what-is-deep-learning)\n",
    "  - [🔑 Relationship to Neural Networks](#relationship-to-neural-networks)\n",
    "  - [🧱 Depth vs. Width](#depth-vs-width)\n",
    "  - [🧠 Representation Learning](#representation-learning)\n",
    "- [🧪 Setup: Complex Dataset](#setup-complex-dataset)\n",
    "  - [🧬 Example: CIFAR-10 or Similar](#example-cifar10-or-similar)\n",
    "  - [📊 Class Imbalance / Real-world Noise](#class-imbalance)\n",
    "  - [🧮 Feature Complexity vs. Model Depth](#feature-complexity)\n",
    "- [🧱 Deep Network Architecture](#deep-network-architecture)\n",
    "  - [🏗️ Stacking Layers: Concept and Challenges](#stacking-layers)\n",
    "  - [🔥 Activation Functions](#activation-functions)\n",
    "  - [🧠 Role of Depth in Feature Hierarchy](#depth-in-feature-hierarchy)\n",
    "- [🎯 Loss Surfaces and Optimization](#loss-surfaces)\n",
    "  - [🌄 Non-convex Landscapes](#non-convex-landscapes)\n",
    "  - [🌀 Vanishing/Exploding Gradients](#vanishing-exploding-gradients)\n",
    "  - [⚙️ Weight Initialization Strategies](#weight-initialization)\n",
    "- [🧰 Training Deep Networks](#training-deep-networks)\n",
    "  - [🧮 Batch Training and Mini-Batch SGD](#batch-training)\n",
    "  - [🛠️ Gradient Clipping](#gradient-clipping)\n",
    "  - [🚀 Optimizers](#optimizers)\n",
    "- [🧠 Advanced Training Tricks](#advanced-training-tricks)\n",
    "  - [⏱️ Learning Rate Scheduling](#lr-scheduling)\n",
    "  - [🧊 Early Stopping](#early-stopping)\n",
    "  - [🎲 Dropout in Deep Models](#dropout)\n",
    "  - [🧪 Data Augmentation](#data-augmentation)\n",
    "- [📚 Transfer Learning & Pretraining](#transfer-learning)\n",
    "  - [🔄 Why Pretrained Models Work](#why-pretrained)\n",
    "  - [🏗️ Fine-tuning vs. Feature Extraction](#finetuning-vs-extraction)\n",
    "  - [🌍 Common Pretrained Networks](#common-pretrained)\n",
    "- [📈 Scaling Up](#scaling-up)\n",
    "  - [🧮 Depth vs. Performance Tradeoffs](#depth-vs-performance)\n",
    "  - [🧠 Hardware Considerations](#hardware)\n",
    "  - [⚖️ Batch Norm vs. Gradient Flow](#batch-norm-vs-gradient)\n",
    "- [🔚 Closing Notes](#closing-notes)\n",
    "  - [🧠 Summary of Key Concepts](#summary)\n",
    "  - [⚠️ Common Pitfalls in Deep Learning](#pitfalls)\n",
    "  - [🚀 What's Next: Transformers & Attention](#whats-next)\n",
    "___"
   ]
  },
  {
   "cell_type": "markdown",
   "id": "56634949",
   "metadata": {},
   "source": [
    "<a id=\"what-is-deep-learning\"></a>\n",
    "# 🧠 What is Deep Learning?\n"
   ]
  },
  {
   "cell_type": "markdown",
   "id": "0cc01453",
   "metadata": {},
   "source": [
    "<a id=\"relationship-to-neural-networks\"></a>\n",
    "#### 🔑 Relationship to Neural Networks\n"
   ]
  },
  {
   "cell_type": "markdown",
   "id": "4ae862b8",
   "metadata": {},
   "source": [
    "<a id=\"depth-vs-width\"></a>\n",
    "#### 🧱 Depth vs. Width\n"
   ]
  },
  {
   "cell_type": "markdown",
   "id": "6bce93b5",
   "metadata": {},
   "source": [
    "<a id=\"representation-learning\"></a>\n",
    "#### 🧠 Representation Learning\n"
   ]
  },
  {
   "cell_type": "markdown",
   "id": "882a9ebe",
   "metadata": {},
   "source": [
    "[Back to the top](#table-of-contents)\n",
    "___\n"
   ]
  },
  {
   "cell_type": "markdown",
   "id": "3d1e7ff6",
   "metadata": {},
   "source": [
    "<a id=\"setup-complex-dataset\"></a>\n",
    "# 🧪 Setup: Complex Dataset\n"
   ]
  },
  {
   "cell_type": "markdown",
   "id": "eefffacc",
   "metadata": {},
   "source": [
    "<a id=\"example-cifar10-or-similar\"></a>\n",
    "#### 🧬 Example: CIFAR-10 or Similar\n"
   ]
  },
  {
   "cell_type": "markdown",
   "id": "69e6118d",
   "metadata": {},
   "source": [
    "<a id=\"class-imbalance\"></a>\n",
    "#### 📊 Class Imbalance / Real-world Noise\n"
   ]
  },
  {
   "cell_type": "markdown",
   "id": "584f32c3",
   "metadata": {},
   "source": [
    "<a id=\"feature-complexity\"></a>\n",
    "#### 🧮 Feature Complexity vs. Model Depth\n"
   ]
  },
  {
   "cell_type": "markdown",
   "id": "9921415e",
   "metadata": {},
   "source": [
    "[Back to the top](#table-of-contents)\n",
    "___\n"
   ]
  },
  {
   "cell_type": "markdown",
   "id": "35157550",
   "metadata": {},
   "source": [
    "<a id=\"deep-network-architecture\"></a>\n",
    "# 🧱 Deep Network Architecture\n"
   ]
  },
  {
   "cell_type": "markdown",
   "id": "d656cf9a",
   "metadata": {},
   "source": [
    "<a id=\"stacking-layers\"></a>\n",
    "#### 🏗️ Stacking Layers: Concept and Challenges\n"
   ]
  },
  {
   "cell_type": "markdown",
   "id": "57d376a6",
   "metadata": {},
   "source": [
    "<a id=\"activation-functions\"></a>\n",
    "#### 🔥 Activation Functions\n"
   ]
  },
  {
   "cell_type": "markdown",
   "id": "6681a0a8",
   "metadata": {},
   "source": [
    "<a id=\"depth-in-feature-hierarchy\"></a>\n",
    "#### 🧠 Role of Depth in Feature Hierarchy\n"
   ]
  },
  {
   "cell_type": "markdown",
   "id": "f5dba767",
   "metadata": {},
   "source": [
    "[Back to the top](#table-of-contents)\n",
    "___\n"
   ]
  },
  {
   "cell_type": "markdown",
   "id": "c5b04b20",
   "metadata": {},
   "source": [
    "<a id=\"loss-surfaces\"></a>\n",
    "# 🎯 Loss Surfaces and Optimization\n"
   ]
  },
  {
   "cell_type": "markdown",
   "id": "ac97da85",
   "metadata": {},
   "source": [
    "<a id=\"non-convex-landscapes\"></a>\n",
    "#### 🌄 Non-convex Landscapes\n"
   ]
  },
  {
   "cell_type": "markdown",
   "id": "1a6be519",
   "metadata": {},
   "source": [
    "<a id=\"vanishing-exploding-gradients\"></a>\n",
    "#### 🌀 Vanishing/Exploding Gradients\n"
   ]
  },
  {
   "cell_type": "markdown",
   "id": "5b56b639",
   "metadata": {},
   "source": [
    "<a id=\"weight-initialization\"></a>\n",
    "#### ⚙️ Weight Initialization Strategies\n"
   ]
  },
  {
   "cell_type": "markdown",
   "id": "4cff339e",
   "metadata": {},
   "source": [
    "[Back to the top](#table-of-contents)\n",
    "___\n"
   ]
  },
  {
   "cell_type": "markdown",
   "id": "57f4bd5d",
   "metadata": {},
   "source": [
    "<a id=\"training-deep-networks\"></a>\n",
    "# 🧰 Training Deep Networks\n"
   ]
  },
  {
   "cell_type": "markdown",
   "id": "c4f1cd18",
   "metadata": {},
   "source": [
    "<a id=\"batch-training\"></a>\n",
    "#### 🧮 Batch Training and Mini-Batch SGD\n"
   ]
  },
  {
   "cell_type": "markdown",
   "id": "8a6a55a3",
   "metadata": {},
   "source": [
    "<a id=\"gradient-clipping\"></a>\n",
    "#### 🛠️ Gradient Clipping\n"
   ]
  },
  {
   "cell_type": "markdown",
   "id": "a7a7af88",
   "metadata": {},
   "source": [
    "<a id=\"optimizers\"></a>\n",
    "#### 🚀 Optimizers\n"
   ]
  },
  {
   "cell_type": "markdown",
   "id": "03e0071a",
   "metadata": {},
   "source": [
    "[Back to the top](#table-of-contents)\n",
    "___\n"
   ]
  },
  {
   "cell_type": "markdown",
   "id": "6f3947d4",
   "metadata": {},
   "source": [
    "<a id=\"advanced-training-tricks\"></a>\n",
    "# 🧠 Advanced Training Tricks\n"
   ]
  },
  {
   "cell_type": "markdown",
   "id": "3ab29c2c",
   "metadata": {},
   "source": [
    "<a id=\"lr-scheduling\"></a>\n",
    "#### ⏱️ Learning Rate Scheduling\n"
   ]
  },
  {
   "cell_type": "markdown",
   "id": "a451fe80",
   "metadata": {},
   "source": [
    "<a id=\"early-stopping\"></a>\n",
    "#### 🧊 Early Stopping\n"
   ]
  },
  {
   "cell_type": "markdown",
   "id": "19a442a7",
   "metadata": {},
   "source": [
    "<a id=\"dropout\"></a>\n",
    "#### 🎲 Dropout in Deep Models\n"
   ]
  },
  {
   "cell_type": "markdown",
   "id": "67647990",
   "metadata": {},
   "source": [
    "<a id=\"data-augmentation\"></a>\n",
    "#### 🧪 Data Augmentation\n"
   ]
  },
  {
   "cell_type": "markdown",
   "id": "899ef15f",
   "metadata": {},
   "source": [
    "[Back to the top](#table-of-contents)\n",
    "___\n"
   ]
  },
  {
   "cell_type": "markdown",
   "id": "1247d1d9",
   "metadata": {},
   "source": [
    "<a id=\"transfer-learning\"></a>\n",
    "# 📚 Transfer Learning & Pretraining\n"
   ]
  },
  {
   "cell_type": "markdown",
   "id": "3fa73e1a",
   "metadata": {},
   "source": [
    "<a id=\"why-pretrained\"></a>\n",
    "#### 🔄 Why Pretrained Models Work\n"
   ]
  },
  {
   "cell_type": "markdown",
   "id": "b450e040",
   "metadata": {},
   "source": [
    "<a id=\"finetuning-vs-extraction\"></a>\n",
    "#### 🏗️ Fine-tuning vs. Feature Extraction\n"
   ]
  },
  {
   "cell_type": "markdown",
   "id": "2cd98b65",
   "metadata": {},
   "source": [
    "<a id=\"common-pretrained\"></a>\n",
    "#### 🌍 Common Pretrained Networks\n"
   ]
  },
  {
   "cell_type": "markdown",
   "id": "e87bee68",
   "metadata": {},
   "source": [
    "[Back to the top](#table-of-contents)\n",
    "___\n"
   ]
  },
  {
   "cell_type": "markdown",
   "id": "58bbe575",
   "metadata": {},
   "source": [
    "<a id=\"scaling-up\"></a>\n",
    "# 📈 Scaling Up\n"
   ]
  },
  {
   "cell_type": "markdown",
   "id": "b0a103a1",
   "metadata": {},
   "source": [
    "<a id=\"depth-vs-performance\"></a>\n",
    "#### 🧮 Depth vs. Performance Tradeoffs\n"
   ]
  },
  {
   "cell_type": "markdown",
   "id": "6cd43090",
   "metadata": {},
   "source": [
    "<a id=\"hardware\"></a>\n",
    "#### 🧠 Hardware Considerations\n"
   ]
  },
  {
   "cell_type": "markdown",
   "id": "04075618",
   "metadata": {},
   "source": [
    "<a id=\"batch-norm-vs-gradient\"></a>\n",
    "#### ⚖️ Batch Norm vs. Gradient Flow\n"
   ]
  },
  {
   "cell_type": "markdown",
   "id": "b3729e28",
   "metadata": {},
   "source": [
    "[Back to the top](#table-of-contents)\n",
    "___\n"
   ]
  },
  {
   "cell_type": "markdown",
   "id": "c583bf64",
   "metadata": {},
   "source": [
    "<a id=\"closing-notes\"></a>\n",
    "# 🔚 Closing Notes\n"
   ]
  },
  {
   "cell_type": "markdown",
   "id": "43543602",
   "metadata": {},
   "source": [
    "<a id=\"summary\"></a>\n",
    "#### 🧠 Summary of Key Concepts\n"
   ]
  },
  {
   "cell_type": "markdown",
   "id": "7e013153",
   "metadata": {},
   "source": [
    "<a id=\"pitfalls\"></a>\n",
    "#### ⚠️ Common Pitfalls in Deep Learning\n"
   ]
  },
  {
   "cell_type": "markdown",
   "id": "c6ae535a",
   "metadata": {},
   "source": [
    "<a id=\"whats-next\"></a>\n",
    "#### 🚀 What's Next: Transformers & Attention\n"
   ]
  },
  {
   "cell_type": "markdown",
   "id": "5ce015e3",
   "metadata": {},
   "source": [
    "[Back to the top](#table-of-contents)\n",
    "___\n"
   ]
  }
 ],
 "metadata": {
  "language_info": {
   "name": "python"
  }
 },
 "nbformat": 4,
 "nbformat_minor": 5
}
