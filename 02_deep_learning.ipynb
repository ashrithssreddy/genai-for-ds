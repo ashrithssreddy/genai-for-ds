{
 "cells": [
  {
   "cell_type": "markdown",
   "id": "ed0f1556",
   "metadata": {},
   "source": [
    "![Python](https://img.shields.io/badge/python-3.9-blue)\n",
    "![Status: Pending Migration](https://img.shields.io/badge/status-pending%20migration-orange)\n",
    "\n",
    "<a id=\"table-of-contents\"></a>\n",
    "# 📖 Deep Learning\n",
    "\n",
    "- [🧠 Why Go Deeper?](#why-go-deeper)\n",
    "- [🔧 Setup Problem and Dataset](#setup-problem-and-dataset)\n",
    "- [🏗️ Build Deep MLP](#build-deep-mlp)\n",
    "    - [🧱 Define Architecture](#define-architecture)\n",
    "    - [🚀 Train Deep MLP](#train-deep-mlp)\n",
    "    - [📈 Visualize Loss and Decision Boundary](#visualize-deep-mlp-results)\n",
    "- [🧠 High-Level Intro to CNNs](#intro-to-cnns)\n",
    "    - [🔲 When Do You Need CNNs?](#cnn-use-cases)\n",
    "    - [⚙️ CNN Layers Explained](#cnn-building-blocks)\n",
    "    - [📦 CNN with Keras/Torch](#cnn-code-demo)\n",
    "- [🔚 Closing Notes](#closing-notes)\n",
    "___"
   ]
  },
  {
   "cell_type": "markdown",
   "id": "78b21b6e",
   "metadata": {},
   "source": [
    "<a id=\"why-go-deeper\"></a>\n",
    "# 🧠 Why Go Deeper?\n",
    "\n"
   ]
  },
  {
   "cell_type": "markdown",
   "id": "3f2e4c74",
   "metadata": {},
   "source": [
    "[Back to the top](#table-of-contents)\n",
    "___\n"
   ]
  },
  {
   "cell_type": "markdown",
   "id": "a5334d9b",
   "metadata": {},
   "source": [
    "<a id=\"setup-problem-and-dataset\"></a>\n",
    "# 🔧 Setup Problem and Dataset\n",
    "\n"
   ]
  },
  {
   "cell_type": "markdown",
   "id": "d0d43cdb",
   "metadata": {},
   "source": [
    "[Back to the top](#table-of-contents)\n",
    "___\n"
   ]
  },
  {
   "cell_type": "markdown",
   "id": "d9cd82ce",
   "metadata": {},
   "source": [
    "<a id=\"build-deep-mlp\"></a>\n",
    "# 🏗️ Build Deep MLP\n",
    "\n"
   ]
  },
  {
   "cell_type": "markdown",
   "id": "bae5f984",
   "metadata": {},
   "source": [
    "<a id=\"define-architecture\"></a>\n",
    "#### 🧱 Define Architecture\n",
    "\n"
   ]
  },
  {
   "cell_type": "markdown",
   "id": "77e9e9a7",
   "metadata": {},
   "source": [
    "<a id=\"train-deep-mlp\"></a>\n",
    "#### 🚀 Train Deep MLP\n",
    "\n"
   ]
  },
  {
   "cell_type": "markdown",
   "id": "2eac8f80",
   "metadata": {},
   "source": [
    "<a id=\"visualize-deep-mlp-results\"></a>\n",
    "#### 📈 Visualize Loss and Decision Boundary\n",
    "\n"
   ]
  },
  {
   "cell_type": "markdown",
   "id": "85719d4c",
   "metadata": {},
   "source": [
    "[Back to the top](#table-of-contents)\n",
    "___\n"
   ]
  },
  {
   "cell_type": "markdown",
   "id": "c3467b09",
   "metadata": {},
   "source": [
    "<a id=\"intro-to-cnns\"></a>\n",
    "# 🧠 High-Level Intro to CNNs\n",
    "\n"
   ]
  },
  {
   "cell_type": "markdown",
   "id": "6f4a0cfd",
   "metadata": {},
   "source": [
    "<a id=\"cnn-use-cases\"></a>\n",
    "#### 🔲 When Do You Need CNNs?\n",
    "\n"
   ]
  },
  {
   "cell_type": "markdown",
   "id": "ff917926",
   "metadata": {},
   "source": [
    "<a id=\"cnn-building-blocks\"></a>\n",
    "#### ⚙️ CNN Layers Explained\n",
    "\n"
   ]
  },
  {
   "cell_type": "markdown",
   "id": "add30291",
   "metadata": {},
   "source": [
    "<a id=\"cnn-code-demo\"></a>\n",
    "#### 📦 CNN with Keras/Torch\n",
    "\n"
   ]
  },
  {
   "cell_type": "markdown",
   "id": "c92ba7fa",
   "metadata": {
    "vscode": {
     "languageId": "plaintext"
    }
   },
   "source": [
    "[Back to the top](#table-of-contents)\n",
    "___\n"
   ]
  },
  {
   "cell_type": "markdown",
   "id": "1fd4576e",
   "metadata": {},
   "source": [
    "<a id=\"closing-notes\"></a>\n",
    "# 🔚 Closing Notes\n"
   ]
  },
  {
   "cell_type": "markdown",
   "id": "5ce015e3",
   "metadata": {},
   "source": [
    "[Back to the top](#table-of-contents)\n",
    "___\n"
   ]
  },
  {
   "cell_type": "markdown",
   "id": "4fb67b49",
   "metadata": {},
   "source": []
  }
 ],
 "metadata": {
  "language_info": {
   "name": "python"
  }
 },
 "nbformat": 4,
 "nbformat_minor": 5
}
