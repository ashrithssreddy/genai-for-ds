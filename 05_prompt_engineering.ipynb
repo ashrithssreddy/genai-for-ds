{
 "cells": [
  {
   "cell_type": "markdown",
   "id": "6f8b8d85",
   "metadata": {},
   "source": [
    "<a id=\"table-of-contents\"></a>\n",
    "# 📖 Prompt Engineering Basics\n",
    "\n",
    "- [🧠 What is Prompt Engineering?](#what-is-prompt-engineering)\n",
    "  - [🔍 Definition and Purpose](#definition)\n",
    "  - [🎯 Prompting vs. Fine-tuning](#prompting-vs-finetuning)\n",
    "  - [🔄 Iterative Prompt Design](#iterative-prompting)\n",
    "- [🧱 Anatomy of a Prompt](#anatomy-of-a-prompt)\n",
    "  - [🧾 Instructions](#instructions)\n",
    "  - [📄 Context and Examples](#context-examples)\n",
    "  - [🧠 Role, Tone, and Style](#role-tone-style)\n",
    "  - [🔢 Input Formatting and Constraints](#input-formatting)\n",
    "- [🔁 Prompt Patterns and Recipes](#prompt-patterns)\n",
    "  - [💡 Zero-shot Prompting](#zero-shot)\n",
    "  - [🧪 Few-shot Prompting](#few-shot)\n",
    "  - [📋 Chain-of-Thought (CoT)](#cot)\n",
    "  - [🔄 ReAct (Reasoning + Acting)](#react)\n",
    "  - [🎛️ Self-Consistency, Self-Ask](#self-consistency)\n",
    "- [🔍 Prompt Evaluation and Debugging](#prompt-evaluation)\n",
    "  - [🧠 Desired Output vs. Actual](#desired-vs-actual)\n",
    "  - [🧪 Failure Modes](#failure-modes)\n",
    "  - [🛠️ Refinement Strategies](#refinement-strategies)\n",
    "- [⚙️ Prompt Engineering Tools](#prompt-tools)\n",
    "  - [🧰 Prompt Templates](#templates)\n",
    "  - [🔁 Prompt Iteration Interfaces](#iteration-interfaces)\n",
    "  - [📊 Eval Frameworks (TruLens, Promptfoo)](#eval-frameworks)\n",
    "- [🧠 Prompting for Different Tasks](#task-types)\n",
    "  - [🧬 Classification](#classification)\n",
    "  - [📄 Summarization](#summarization)\n",
    "  - [🔧 Code Generation](#code-generation)\n",
    "  - [🧠 Reasoning & Math](#reasoning-math)\n",
    "- [🛡️ Prompting Challenges](#prompting-challenges)\n",
    "  - [🔁 Prompt Injection](#injection)\n",
    "  - [📉 Output Instability](#instability)\n",
    "  - [🤖 Hallucination Traps](#hallucination-traps)\n",
    "- [🔚 Closing Notes](#closing-notes)\n",
    "  - [🧠 Summary and Best Practices](#summary)\n",
    "  - [🚀 What’s Next: Fine-tuning (06)](#next)\n",
    "  - [💬 What to Practice](#practice)\n",
    "___"
   ]
  },
  {
   "cell_type": "markdown",
   "id": "c9278482",
   "metadata": {},
   "source": [
    "<a id=\"what-is-prompt-engineering\"></a>\n",
    "# 🧠 What is Prompt Engineering?\n"
   ]
  },
  {
   "cell_type": "markdown",
   "id": "dc422d2d",
   "metadata": {},
   "source": [
    "<a id=\"definition\"></a>\n",
    "#### 🔍 Definition and Purpose\n"
   ]
  },
  {
   "cell_type": "markdown",
   "id": "e84be5bf",
   "metadata": {},
   "source": [
    "<a id=\"prompting-vs-finetuning\"></a>\n",
    "#### 🎯 Prompting vs. Fine-tuning\n"
   ]
  },
  {
   "cell_type": "markdown",
   "id": "32391412",
   "metadata": {},
   "source": [
    "<a id=\"iterative-prompting\"></a>\n",
    "#### 🔄 Iterative Prompt Design\n"
   ]
  },
  {
   "cell_type": "markdown",
   "id": "83caa141",
   "metadata": {},
   "source": [
    "[Back to the top](#table-of-contents)\n",
    "___\n"
   ]
  },
  {
   "cell_type": "markdown",
   "id": "194238a1",
   "metadata": {},
   "source": [
    "<a id=\"anatomy-of-a-prompt\"></a>\n",
    "# 🧱 Anatomy of a Prompt\n"
   ]
  },
  {
   "cell_type": "markdown",
   "id": "676e465d",
   "metadata": {},
   "source": [
    "<a id=\"instructions\"></a>\n",
    "#### 🧾 Instructions\n"
   ]
  },
  {
   "cell_type": "markdown",
   "id": "7c0ec80e",
   "metadata": {},
   "source": [
    "<a id=\"context-examples\"></a>\n",
    "#### 📄 Context and Examples\n"
   ]
  },
  {
   "cell_type": "markdown",
   "id": "8cce9147",
   "metadata": {},
   "source": [
    "<a id=\"role-tone-style\"></a>\n",
    "#### 🧠 Role, Tone, and Style\n"
   ]
  },
  {
   "cell_type": "markdown",
   "id": "bd6795e0",
   "metadata": {},
   "source": [
    "<a id=\"input-formatting\"></a>\n",
    "#### 🔢 Input Formatting and Constraints\n"
   ]
  },
  {
   "cell_type": "markdown",
   "id": "95abb23c",
   "metadata": {},
   "source": [
    "[Back to the top](#table-of-contents)\n",
    "___\n"
   ]
  },
  {
   "cell_type": "markdown",
   "id": "addab907",
   "metadata": {},
   "source": [
    "<a id=\"prompt-patterns\"></a>\n",
    "# 🔁 Prompt Patterns and Recipes\n"
   ]
  },
  {
   "cell_type": "markdown",
   "id": "9ea901b8",
   "metadata": {},
   "source": [
    "<a id=\"zero-shot\"></a>\n",
    "#### 💡 Zero-shot Prompting\n"
   ]
  },
  {
   "cell_type": "markdown",
   "id": "92dd715d",
   "metadata": {},
   "source": [
    "<a id=\"few-shot\"></a>\n",
    "#### 🧪 Few-shot Prompting\n"
   ]
  },
  {
   "cell_type": "markdown",
   "id": "968a096c",
   "metadata": {},
   "source": [
    "<a id=\"cot\"></a>\n",
    "#### 📋 Chain-of-Thought (CoT)\n"
   ]
  },
  {
   "cell_type": "markdown",
   "id": "b5a2623e",
   "metadata": {},
   "source": [
    "<a id=\"react\"></a>\n",
    "#### 🔄 ReAct (Reasoning + Acting)\n"
   ]
  },
  {
   "cell_type": "markdown",
   "id": "95b1711a",
   "metadata": {},
   "source": [
    "<a id=\"self-consistency\"></a>\n",
    "#### 🎛️ Self-Consistency, Self-Ask\n"
   ]
  },
  {
   "cell_type": "markdown",
   "id": "dce95f61",
   "metadata": {},
   "source": [
    "[Back to the top](#table-of-contents)\n",
    "___\n"
   ]
  },
  {
   "cell_type": "markdown",
   "id": "82954029",
   "metadata": {},
   "source": [
    "<a id=\"prompt-evaluation\"></a>\n",
    "# 🔍 Prompt Evaluation and Debugging\n"
   ]
  },
  {
   "cell_type": "markdown",
   "id": "7b1dfd91",
   "metadata": {},
   "source": [
    "<a id=\"desired-vs-actual\"></a>\n",
    "#### 🧠 Desired Output vs. Actual\n"
   ]
  },
  {
   "cell_type": "markdown",
   "id": "b9e74e68",
   "metadata": {},
   "source": [
    "<a id=\"failure-modes\"></a>\n",
    "#### 🧪 Failure Modes\n"
   ]
  },
  {
   "cell_type": "markdown",
   "id": "6f4ef34a",
   "metadata": {},
   "source": [
    "<a id=\"refinement-strategies\"></a>\n",
    "#### 🛠️ Refinement Strategies\n"
   ]
  },
  {
   "cell_type": "markdown",
   "id": "dc6bab69",
   "metadata": {},
   "source": [
    "[Back to the top](#table-of-contents)\n",
    "___\n"
   ]
  },
  {
   "cell_type": "markdown",
   "id": "98422eee",
   "metadata": {},
   "source": [
    "<a id=\"prompt-tools\"></a>\n",
    "# ⚙️ Prompt Engineering Tools\n"
   ]
  },
  {
   "cell_type": "markdown",
   "id": "0bf5f4fe",
   "metadata": {},
   "source": [
    "<a id=\"templates\"></a>\n",
    "#### 🧰 Prompt Templates\n"
   ]
  },
  {
   "cell_type": "markdown",
   "id": "ab35a847",
   "metadata": {},
   "source": [
    "<a id=\"iteration-interfaces\"></a>\n",
    "#### 🔁 Prompt Iteration Interfaces\n"
   ]
  },
  {
   "cell_type": "markdown",
   "id": "4a541846",
   "metadata": {},
   "source": [
    "<a id=\"eval-frameworks\"></a>\n",
    "#### 📊 Eval Frameworks (TruLens, Promptfoo)\n"
   ]
  },
  {
   "cell_type": "markdown",
   "id": "d7ed61ed",
   "metadata": {},
   "source": [
    "[Back to the top](#table-of-contents)\n",
    "___\n"
   ]
  },
  {
   "cell_type": "markdown",
   "id": "8e8dc0a7",
   "metadata": {},
   "source": [
    "<a id=\"task-types\"></a>\n",
    "# 🧠 Prompting for Different Tasks\n"
   ]
  },
  {
   "cell_type": "markdown",
   "id": "0bc36b1d",
   "metadata": {},
   "source": [
    "<a id=\"classification\"></a>\n",
    "#### 🧬 Classification\n"
   ]
  },
  {
   "cell_type": "markdown",
   "id": "647d8f4b",
   "metadata": {},
   "source": [
    "<a id=\"summarization\"></a>\n",
    "#### 📄 Summarization\n"
   ]
  },
  {
   "cell_type": "markdown",
   "id": "fa095436",
   "metadata": {},
   "source": [
    "<a id=\"code-generation\"></a>\n",
    "#### 🔧 Code Generation\n"
   ]
  },
  {
   "cell_type": "markdown",
   "id": "bdedee6e",
   "metadata": {},
   "source": [
    "<a id=\"reasoning-math\"></a>\n",
    "#### 🧠 Reasoning & Math\n"
   ]
  },
  {
   "cell_type": "markdown",
   "id": "df2993d6",
   "metadata": {},
   "source": [
    "[Back to the top](#table-of-contents)\n",
    "___\n"
   ]
  },
  {
   "cell_type": "markdown",
   "id": "e11dec19",
   "metadata": {},
   "source": [
    "<a id=\"prompting-challenges\"></a>\n",
    "# 🛡️ Prompting Challenges\n"
   ]
  },
  {
   "cell_type": "markdown",
   "id": "aa7097dc",
   "metadata": {},
   "source": [
    "<a id=\"injection\"></a>\n",
    "#### 🔁 Prompt Injection\n"
   ]
  },
  {
   "cell_type": "markdown",
   "id": "7e479d40",
   "metadata": {},
   "source": [
    "<a id=\"instability\"></a>\n",
    "#### 📉 Output Instability\n"
   ]
  },
  {
   "cell_type": "markdown",
   "id": "2aed3be7",
   "metadata": {},
   "source": [
    "<a id=\"hallucination-traps\"></a>\n",
    "#### 🤖 Hallucination Traps"
   ]
  },
  {
   "cell_type": "markdown",
   "id": "e698ce3c",
   "metadata": {},
   "source": [
    "[Back to the top](#table-of-contents)\n",
    "___\n"
   ]
  },
  {
   "cell_type": "markdown",
   "id": "0c3cf294",
   "metadata": {},
   "source": [
    "<a id=\"closing-notes\"></a>\n",
    "# 🔚 Closing Notes\n"
   ]
  },
  {
   "cell_type": "markdown",
   "id": "befd698e",
   "metadata": {},
   "source": [
    "<a id=\"summary\"></a>\n",
    "#### 🧠 Summary and Best Practices\n"
   ]
  },
  {
   "cell_type": "markdown",
   "id": "7fce1f15",
   "metadata": {},
   "source": [
    "<a id=\"next\"></a>\n",
    "#### 🚀 What’s Next: Fine-tuning"
   ]
  },
  {
   "cell_type": "markdown",
   "id": "9dbb81e7",
   "metadata": {},
   "source": [
    "<a id=\"practice\"></a>\n",
    "#### 💬 What to Practice\n"
   ]
  },
  {
   "cell_type": "markdown",
   "id": "d9298f13",
   "metadata": {},
   "source": [
    "[Back to the top](#table-of-contents)\n",
    "___\n"
   ]
  }
 ],
 "metadata": {
  "language_info": {
   "name": "python"
  }
 },
 "nbformat": 4,
 "nbformat_minor": 5
}
