{
 "cells": [
  {
   "cell_type": "markdown",
   "id": "50bbd7d6",
   "metadata": {},
   "source": [
    "![Python](https://img.shields.io/badge/python-3.9-blue)\n",
    "![Status: Pending Migration](https://img.shields.io/badge/status-pending%20migration-orange)\n",
    "\n",
    "<a id=\"table-of-contents\"></a>\n",
    "# 📖 Hugging Face Workflows\n",
    "\n",
    "- [🧠 What is Hugging Face?](#what-is-huggingface)\n",
    "  - [🤗 Overview of Ecosystem (Transformers, Datasets, Tokenizers, PEFT)](#ecosystem-overview)\n",
    "  - [🔍 Model Hub and Dataset Hub](#model-dataset-hub)\n",
    "  - [⚙️ Pipelines vs. Manual Control](#pipelines-vs-manual)\n",
    "- [⚙️ Core Workflow with Transformers](#core-workflow)\n",
    "  - [🧪 Load a Pretrained Model and Tokenizer](#load-model)\n",
    "  - [💬 Use Pipelines for Quick Tasks](#pipelines)\n",
    "  - [📄 Custom Input Handling and Tokenization](#custom-tokenization)\n",
    "  - [🔧 Config, Tokenizer, and Model Outputs](#config-output)\n",
    "- [🧰 Training and Fine-tuning with 🤗](#training-finetuning)\n",
    "  - [🧠 Using Trainer API (End-to-End)](#trainer-api)\n",
    "  - [📦 Using Datasets Library](#datasets-lib)\n",
    "  - [🧮 Custom Training Loops (if needed)](#custom-loops)\n",
    "  - [🧰 PEFT / LoRA Integration](#peft-lora)\n",
    "- [🔬 Evaluation and Inference](#evaluation)\n",
    "  - [🧪 Generate, Score, Classify](#generate-score)\n",
    "  - [📊 Evaluate with Accuracy, BLEU, ROUGE](#eval-metrics)\n",
    "  - [🧠 Save + Reload Model + Tokenizer](#save-reload)\n",
    "- [🚀 Deployment Options](#deployment)\n",
    "  - [🌐 Inference API](#inference-api)\n",
    "  - [🐳 Docker + REST API (via FastAPI)](#docker-api)\n",
    "  - [🧠 Accelerated Inference with ONNX or HF Optimum](#onnx-optimum)\n",
    "- [🛠️ Tips and Common Errors](#tips-errors)\n",
    "  - [⚠️ Tokenizer Shape Issues](#tokenizer-shape)\n",
    "  - [⚙️ CUDA/Device Setup](#cuda-setup)\n",
    "  - [🔍 Debugging Model Outputs](#debug-output)\n",
    "- [🧪 Mini Projects or Use Cases](#mini-projects)\n",
    "  - [💬 Sentiment Classification](#sentiment)\n",
    "  - [🔍 Q&A or Search Reranking](#qa-search)\n",
    "  - [🧠 Text Summarization](#summarization)\n",
    "- [🔚 Closing Notes](#closing-notes)\n",
    "  - [🧠 Summary and Key Commands](#summary)\n",
    "  - [💡 Next: GenAI Use Cases (08)](#next)\n",
    "  - [🧰 Practice and Exploration Suggestions](#practice)\n",
    "___"
   ]
  },
  {
   "cell_type": "markdown",
   "id": "6564ac4c",
   "metadata": {},
   "source": [
    "<a id=\"what-is-huggingface\"></a>\n",
    "# 🧠 What is Hugging Face?\n"
   ]
  },
  {
   "cell_type": "markdown",
   "id": "c89b530e",
   "metadata": {},
   "source": [
    "<a id=\"ecosystem-overview\"></a>\n",
    "#### 🤗 Overview of Ecosystem (Transformers, Datasets, Tokenizers, PEFT)\n"
   ]
  },
  {
   "cell_type": "markdown",
   "id": "19c58c62",
   "metadata": {},
   "source": [
    "<a id=\"model-dataset-hub\"></a>\n",
    "#### 🔍 Model Hub and Dataset Hub\n"
   ]
  },
  {
   "cell_type": "markdown",
   "id": "a3ab9c2e",
   "metadata": {},
   "source": [
    "<a id=\"pipelines-vs-manual\"></a>\n",
    "#### ⚙️ Pipelines vs. Manual Control\n"
   ]
  },
  {
   "cell_type": "markdown",
   "id": "f71b78ca",
   "metadata": {},
   "source": [
    "[Back to the top](#table-of-contents)\n",
    "___\n"
   ]
  },
  {
   "cell_type": "markdown",
   "id": "4b303b2a",
   "metadata": {},
   "source": [
    "<a id=\"core-workflow\"></a>\n",
    "# ⚙️ Core Workflow with Transformers\n"
   ]
  },
  {
   "cell_type": "markdown",
   "id": "d6667253",
   "metadata": {},
   "source": [
    "<a id=\"load-model\"></a>\n",
    "#### 🧪 Load a Pretrained Model and Tokenizer\n"
   ]
  },
  {
   "cell_type": "markdown",
   "id": "7053d326",
   "metadata": {},
   "source": [
    "<a id=\"pipelines\"></a>\n",
    "#### 💬 Use Pipelines for Quick Tasks\n"
   ]
  },
  {
   "cell_type": "markdown",
   "id": "fce35b49",
   "metadata": {},
   "source": [
    "<a id=\"custom-tokenization\"></a>\n",
    "#### 📄 Custom Input Handling and Tokenization\n"
   ]
  },
  {
   "cell_type": "markdown",
   "id": "c99e53a8",
   "metadata": {},
   "source": [
    "<a id=\"config-output\"></a>\n",
    "#### 🔧 Config, Tokenizer, and Model Outputs\n"
   ]
  },
  {
   "cell_type": "markdown",
   "id": "91c4c4ae",
   "metadata": {},
   "source": [
    "[Back to the top](#table-of-contents)\n",
    "___\n"
   ]
  },
  {
   "cell_type": "markdown",
   "id": "704eaacd",
   "metadata": {},
   "source": [
    "<a id=\"training-finetuning\"></a>\n",
    "# 🧰 Training and Fine-tuning with 🤗\n"
   ]
  },
  {
   "cell_type": "markdown",
   "id": "9b9813cc",
   "metadata": {},
   "source": [
    "<a id=\"trainer-api\"></a>\n",
    "#### 🧠 Using Trainer API (End-to-End)\n"
   ]
  },
  {
   "cell_type": "markdown",
   "id": "74e9c0f3",
   "metadata": {},
   "source": [
    "<a id=\"datasets-lib\"></a>\n",
    "#### 📦 Using Datasets Library\n"
   ]
  },
  {
   "cell_type": "markdown",
   "id": "52ee90af",
   "metadata": {},
   "source": [
    "<a id=\"custom-loops\"></a>\n",
    "#### 🧮 Custom Training Loops (if needed)\n"
   ]
  },
  {
   "cell_type": "markdown",
   "id": "cd1f201c",
   "metadata": {},
   "source": [
    "<a id=\"peft-lora\"></a>\n",
    "#### 🧰 PEFT / LoRA Integration\n"
   ]
  },
  {
   "cell_type": "markdown",
   "id": "2bf993df",
   "metadata": {},
   "source": [
    "[Back to the top](#table-of-contents)\n",
    "___\n"
   ]
  },
  {
   "cell_type": "markdown",
   "id": "6bcc607b",
   "metadata": {},
   "source": [
    "<a id=\"evaluation\"></a>\n",
    "# 🔬 Evaluation and Inference\n"
   ]
  },
  {
   "cell_type": "markdown",
   "id": "4137337f",
   "metadata": {},
   "source": [
    "<a id=\"generate-score\"></a>\n",
    "#### 🧪 Generate, Score, Classify\n"
   ]
  },
  {
   "cell_type": "markdown",
   "id": "303d815e",
   "metadata": {},
   "source": [
    "<a id=\"eval-metrics\"></a>\n",
    "#### 📊 Evaluate with Accuracy, BLEU, ROUGE\n"
   ]
  },
  {
   "cell_type": "markdown",
   "id": "4b7fbf12",
   "metadata": {},
   "source": [
    "<a id=\"save-reload\"></a>\n",
    "#### 🧠 Save + Reload Model + Tokenizer\n"
   ]
  },
  {
   "cell_type": "markdown",
   "id": "a95050c5",
   "metadata": {},
   "source": [
    "[Back to the top](#table-of-contents)\n",
    "___\n"
   ]
  },
  {
   "cell_type": "markdown",
   "id": "0ea4aa46",
   "metadata": {},
   "source": [
    "<a id=\"deployment\"></a>\n",
    "# 🚀 Deployment Options\n"
   ]
  },
  {
   "cell_type": "markdown",
   "id": "f24853e6",
   "metadata": {},
   "source": [
    "<a id=\"inference-api\"></a>\n",
    "#### 🌐 Inference API\n"
   ]
  },
  {
   "cell_type": "markdown",
   "id": "7b6ef573",
   "metadata": {},
   "source": [
    "<a id=\"docker-api\"></a>\n",
    "#### 🐳 Docker + REST API (via FastAPI)\n"
   ]
  },
  {
   "cell_type": "markdown",
   "id": "03d185f2",
   "metadata": {},
   "source": [
    "<a id=\"onnx-optimum\"></a>\n",
    "#### 🧠 Accelerated Inference with ONNX or HF Optimum\n"
   ]
  },
  {
   "cell_type": "markdown",
   "id": "a77710a0",
   "metadata": {},
   "source": [
    "[Back to the top](#table-of-contents)\n",
    "___\n"
   ]
  },
  {
   "cell_type": "markdown",
   "id": "e6634e47",
   "metadata": {},
   "source": [
    "<a id=\"tips-errors\"></a>\n",
    "# 🛠️ Tips and Common Errors\n"
   ]
  },
  {
   "cell_type": "markdown",
   "id": "5089e318",
   "metadata": {},
   "source": [
    "<a id=\"tokenizer-shape\"></a>\n",
    "#### ⚠️ Tokenizer Shape Issues\n"
   ]
  },
  {
   "cell_type": "markdown",
   "id": "6f73b43d",
   "metadata": {},
   "source": [
    "<a id=\"cuda-setup\"></a>\n",
    "#### ⚙️ CUDA/Device Setup\n"
   ]
  },
  {
   "cell_type": "markdown",
   "id": "7b3b454a",
   "metadata": {},
   "source": [
    "<a id=\"debug-output\"></a>\n",
    "#### 🔍 Debugging Model Outputs\n"
   ]
  },
  {
   "cell_type": "markdown",
   "id": "aa275040",
   "metadata": {},
   "source": [
    "[Back to the top](#table-of-contents)\n",
    "___\n"
   ]
  },
  {
   "cell_type": "markdown",
   "id": "20c0d167",
   "metadata": {},
   "source": [
    "<a id=\"mini-projects\"></a>\n",
    "# 🧪 Mini Projects or Use Cases\n"
   ]
  },
  {
   "cell_type": "markdown",
   "id": "bbd62822",
   "metadata": {},
   "source": [
    "<a id=\"sentiment\"></a>\n",
    "#### 💬 Sentiment Classification\n"
   ]
  },
  {
   "cell_type": "markdown",
   "id": "30c713fb",
   "metadata": {},
   "source": [
    "<a id=\"qa-search\"></a>\n",
    "#### 🔍 Q&A or Search Reranking\n"
   ]
  },
  {
   "cell_type": "markdown",
   "id": "38ab1468",
   "metadata": {},
   "source": [
    "<a id=\"summarization\"></a>\n",
    "#### 🧠 Text Summarization\n"
   ]
  },
  {
   "cell_type": "markdown",
   "id": "f062835e",
   "metadata": {},
   "source": [
    "[Back to the top](#table-of-contents)\n",
    "___\n"
   ]
  },
  {
   "cell_type": "markdown",
   "id": "3abd0dda",
   "metadata": {},
   "source": [
    "<a id=\"closing-notes\"></a>\n",
    "# 🔚 Closing Notes\n"
   ]
  },
  {
   "cell_type": "markdown",
   "id": "468b354f",
   "metadata": {},
   "source": [
    "<a id=\"summary\"></a>\n",
    "#### 🧠 Summary and Key Commands\n"
   ]
  },
  {
   "cell_type": "markdown",
   "id": "811c7309",
   "metadata": {},
   "source": [
    "<a id=\"next\"></a>\n",
    "#### 💡 Next: GenAI Use Cases"
   ]
  },
  {
   "cell_type": "markdown",
   "id": "b951225f",
   "metadata": {},
   "source": [
    "<a id=\"practice\"></a>\n",
    "#### 🧰 Practice and Exploration Suggestions\n"
   ]
  },
  {
   "cell_type": "markdown",
   "id": "4ece3f7e",
   "metadata": {},
   "source": [
    "[Back to the top](#table-of-contents)\n",
    "___\n"
   ]
  }
 ],
 "metadata": {
  "language_info": {
   "name": "python"
  }
 },
 "nbformat": 4,
 "nbformat_minor": 5
}
