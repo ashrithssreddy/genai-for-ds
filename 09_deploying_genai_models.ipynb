{
 "cells": [
  {
   "cell_type": "markdown",
   "id": "0193784a",
   "metadata": {},
   "source": [
    "<a id=\"table-of-contents\"></a>\n",
    "# 📖 Deploying Generative AI Models\n",
    "\n",
    "- [🧠 Why Deployment is Different for GenAI](#why-deployment-different)\n",
    "  - [⚖️ Compute and Latency Tradeoffs](#compute-tradeoffs)\n",
    "  - [🔄 Stateless vs. Stateful Generations](#stateless-vs-stateful)\n",
    "  - [🧠 Model Size, Token Limits, and Cost Constraints](#model-size)\n",
    "- [⚙️ Local Deployment Options](#local-deployment)\n",
    "  - [💻 Run LLMs on Your Machine (GPU/CPU)](#run-local)\n",
    "  - [⚙️ Using Transformers + Text Generation Pipeline](#transformers-pipeline)\n",
    "  - [🔧 Quantization + Model Acceleration (e.g. bitsandbytes, GGUF)](#quantization)\n",
    "- [🐳 Dockerizing a GenAI App](#docker)\n",
    "  - [🧱 Folder Structure and Dependencies](#folder-structure)\n",
    "  - [🐳 Dockerfile for Hugging Face Model](#dockerfile)\n",
    "  - [🚀 Run Container Locally with API Endpoint](#run-container)\n",
    "- [🌐 Serving with FastAPI or Flask](#fastapi)\n",
    "  - [⚙️ REST API with POST Endpoint](#rest-api)\n",
    "  - [💬 Endpoint for Text Generation](#generation-endpoint)\n",
    "  - [🔒 Basic Auth, Rate Limiting, CORS](#auth-cors)\n",
    "- [☁️ Cloud Deployment Patterns](#cloud)\n",
    "  - [🌍 Hugging Face Inference API](#hf-api)\n",
    "  - [🔧 Hosting via Spaces (Streamlit/Gradio)](#hf-spaces)\n",
    "  - [☁️ Deploy on AWS/GCP/Azure](#cloud-hosting)\n",
    "- [⚡ Performance + Monitoring](#performance)\n",
    "  - [📊 Token Throughput and Latency](#throughput)\n",
    "  - [🔍 Logging Inputs and Outputs](#logging)\n",
    "  - [📈 OpenTelemetry / Prometheus (optional)](#monitoring)\n",
    "- [🛡️ Production Risks and Mitigation](#risks)\n",
    "  - [🧨 Prompt Injection Protection](#injection)\n",
    "  - [🔁 Response Filtering / Red-teaming](#filtering)\n",
    "  - [🔒 Security & Privacy Considerations](#security)\n",
    "- [🔚 Closing Notes](#closing-notes)\n",
    "  - [🔁 Summary and Deployment Recap](#recap)\n",
    "  - [🧠 When to Use Local vs. Cloud](#local-vs-cloud)\n",
    "  - [🚀 Beyond Notebooks: Launching Real Apps](#real-apps)\n",
    "___\n"
   ]
  },
  {
   "cell_type": "markdown",
   "id": "fd0d9e6e",
   "metadata": {},
   "source": [
    "<a id=\"why-deployment-different\"></a>\n",
    "# 🧠 Why Deployment is Different for GenAI\n"
   ]
  },
  {
   "cell_type": "markdown",
   "id": "a856e431",
   "metadata": {},
   "source": [
    "<a id=\"compute-tradeoffs\"></a>\n",
    "#### ⚖️ Compute and Latency Tradeoffs\n"
   ]
  },
  {
   "cell_type": "markdown",
   "id": "53225755",
   "metadata": {},
   "source": [
    "<a id=\"stateless-vs-stateful\"></a>\n",
    "#### 🔄 Stateless vs. Stateful Generations\n"
   ]
  },
  {
   "cell_type": "markdown",
   "id": "b8103eb0",
   "metadata": {},
   "source": [
    "<a id=\"model-size\"></a>\n",
    "#### 🧠 Model Size, Token Limits, and Cost Constraints\n"
   ]
  },
  {
   "cell_type": "markdown",
   "id": "13518218",
   "metadata": {},
   "source": [
    "[Back to the top](#table-of-contents)\n",
    "___\n"
   ]
  },
  {
   "cell_type": "markdown",
   "id": "16e48d08",
   "metadata": {},
   "source": [
    "<a id=\"local-deployment\"></a>\n",
    "# ⚙️ Local Deployment Options\n"
   ]
  },
  {
   "cell_type": "markdown",
   "id": "f30e1bdc",
   "metadata": {},
   "source": [
    "<a id=\"run-local\"></a>\n",
    "#### 💻 Run LLMs on Your Machine (GPU/CPU)\n"
   ]
  },
  {
   "cell_type": "markdown",
   "id": "e0aa4228",
   "metadata": {},
   "source": [
    "<a id=\"transformers-pipeline\"></a>\n",
    "#### ⚙️ Using Transformers + Text Generation Pipeline\n"
   ]
  },
  {
   "cell_type": "markdown",
   "id": "09fbf35f",
   "metadata": {},
   "source": [
    "<a id=\"quantization\"></a>\n",
    "#### 🔧 Quantization + Model Acceleration (e.g. bitsandbytes, GGUF)\n"
   ]
  },
  {
   "cell_type": "markdown",
   "id": "fab858a7",
   "metadata": {},
   "source": [
    "[Back to the top](#table-of-contents)\n",
    "___\n"
   ]
  },
  {
   "cell_type": "markdown",
   "id": "1fe8e4db",
   "metadata": {},
   "source": [
    "<a id=\"docker\"></a>\n",
    "# 🐳 Dockerizing a GenAI App\n"
   ]
  },
  {
   "cell_type": "markdown",
   "id": "c3a40e92",
   "metadata": {},
   "source": [
    "<a id=\"folder-structure\"></a>\n",
    "#### 🧱 Folder Structure and Dependencies\n"
   ]
  },
  {
   "cell_type": "markdown",
   "id": "82f1ba10",
   "metadata": {},
   "source": [
    "<a id=\"dockerfile\"></a>\n",
    "#### 🐳 Dockerfile for Hugging Face Model\n"
   ]
  },
  {
   "cell_type": "markdown",
   "id": "bc37173c",
   "metadata": {},
   "source": [
    "<a id=\"run-container\"></a>\n",
    "#### 🚀 Run Container Locally with API Endpoint\n"
   ]
  },
  {
   "cell_type": "markdown",
   "id": "89a26254",
   "metadata": {},
   "source": [
    "[Back to the top](#table-of-contents)\n",
    "___\n"
   ]
  },
  {
   "cell_type": "markdown",
   "id": "bf3a0936",
   "metadata": {},
   "source": [
    "<a id=\"fastapi\"></a>\n",
    "# 🌐 Serving with FastAPI or Flask"
   ]
  },
  {
   "cell_type": "markdown",
   "id": "20d6068a",
   "metadata": {},
   "source": [
    "<a id=\"rest-api\"></a>\n",
    "#### ⚙️ REST API with POST Endpoint\n"
   ]
  },
  {
   "cell_type": "markdown",
   "id": "af384f2e",
   "metadata": {},
   "source": [
    "<a id=\"generation-endpoint\"></a>\n",
    "#### 💬 Endpoint for Text Generation\n"
   ]
  },
  {
   "cell_type": "markdown",
   "id": "f5981519",
   "metadata": {},
   "source": [
    "<a id=\"auth-cors\"></a>\n",
    "#### 🔒 Basic Auth, Rate Limiting, CORS\n"
   ]
  },
  {
   "cell_type": "markdown",
   "id": "44787f88",
   "metadata": {},
   "source": [
    "[Back to the top](#table-of-contents)\n",
    "___\n"
   ]
  },
  {
   "cell_type": "markdown",
   "id": "3e5cc9dd",
   "metadata": {},
   "source": [
    "<a id=\"cloud\"></a>\n",
    "# ☁️ Cloud Deployment Patterns\n"
   ]
  },
  {
   "cell_type": "markdown",
   "id": "321a970b",
   "metadata": {},
   "source": [
    "<a id=\"hf-api\"></a>\n",
    "#### 🌍 Hugging Face Inference API\n"
   ]
  },
  {
   "cell_type": "markdown",
   "id": "34b94cf6",
   "metadata": {},
   "source": [
    "<a id=\"hf-spaces\"></a>\n",
    "#### 🔧 Hosting via Spaces (Streamlit/Gradio)\n"
   ]
  },
  {
   "cell_type": "markdown",
   "id": "79ac7c50",
   "metadata": {},
   "source": [
    "<a id=\"cloud-hosting\"></a>\n",
    "#### ☁️ Deploy on AWS/GCP/Azure\n"
   ]
  },
  {
   "cell_type": "markdown",
   "id": "d8c620c0",
   "metadata": {},
   "source": [
    "[Back to the top](#table-of-contents)\n",
    "___\n"
   ]
  },
  {
   "cell_type": "markdown",
   "id": "67f96358",
   "metadata": {},
   "source": [
    "<a id=\"performance\"></a>\n",
    "# ⚡ Performance + Monitoring\n"
   ]
  },
  {
   "cell_type": "markdown",
   "id": "6e946c96",
   "metadata": {},
   "source": [
    "<a id=\"throughput\"></a>\n",
    "#### 📊 Token Throughput and Latency\n"
   ]
  },
  {
   "cell_type": "markdown",
   "id": "84b60e0c",
   "metadata": {},
   "source": [
    "<a id=\"logging\"></a>\n",
    "#### 🔍 Logging Inputs and Outputs\n"
   ]
  },
  {
   "cell_type": "markdown",
   "id": "75c98f48",
   "metadata": {},
   "source": [
    "<a id=\"monitoring\"></a>\n",
    "#### 📈 OpenTelemetry / Prometheus (optional)\n"
   ]
  },
  {
   "cell_type": "markdown",
   "id": "ced9dc6c",
   "metadata": {},
   "source": [
    "[Back to the top](#table-of-contents)\n",
    "___\n"
   ]
  },
  {
   "cell_type": "markdown",
   "id": "7458f0ed",
   "metadata": {},
   "source": [
    "<a id=\"risks\"></a>\n",
    "# 🛡️ Production Risks and Mitigation\n"
   ]
  },
  {
   "cell_type": "markdown",
   "id": "7b874d0e",
   "metadata": {},
   "source": [
    "<a id=\"injection\"></a>\n",
    "#### 🧨 Prompt Injection Protection\n"
   ]
  },
  {
   "cell_type": "markdown",
   "id": "047c21ed",
   "metadata": {},
   "source": [
    "<a id=\"filtering\"></a>\n",
    "#### 🔁 Response Filtering / Red-teaming\n"
   ]
  },
  {
   "cell_type": "markdown",
   "id": "b6dd9447",
   "metadata": {},
   "source": [
    "<a id=\"security\"></a>\n",
    "#### 🔒 Security & Privacy Considerations\n"
   ]
  },
  {
   "cell_type": "markdown",
   "id": "84eeaaf6",
   "metadata": {},
   "source": [
    "[Back to the top](#table-of-contents)\n",
    "___\n"
   ]
  },
  {
   "cell_type": "markdown",
   "id": "ad4bcd08",
   "metadata": {},
   "source": [
    "<a id=\"closing-notes\"></a>\n",
    "# 🔚 Closing Notes\n"
   ]
  },
  {
   "cell_type": "markdown",
   "id": "cd6589f9",
   "metadata": {},
   "source": [
    "<a id=\"recap\"></a>\n",
    "#### 🔁 Summary and Deployment Recap\n"
   ]
  },
  {
   "cell_type": "markdown",
   "id": "31ee3296",
   "metadata": {},
   "source": [
    "<a id=\"local-vs-cloud\"></a>\n",
    "#### 🧠 When to Use Local vs. Cloud\n"
   ]
  },
  {
   "cell_type": "markdown",
   "id": "90ce37b3",
   "metadata": {},
   "source": [
    "<a id=\"real-apps\"></a>\n",
    "#### 🚀 Beyond Notebooks: Launching Real Apps\n"
   ]
  },
  {
   "cell_type": "markdown",
   "id": "1da3f24e",
   "metadata": {},
   "source": [
    "[Back to the top](#table-of-contents)\n",
    "___\n"
   ]
  }
 ],
 "metadata": {
  "language_info": {
   "name": "python"
  }
 },
 "nbformat": 4,
 "nbformat_minor": 5
}
