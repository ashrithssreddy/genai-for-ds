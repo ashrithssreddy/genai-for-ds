{
 "cells": [
  {
   "cell_type": "markdown",
   "id": "6b9222fa",
   "metadata": {},
   "source": [
    "![Python](https://img.shields.io/badge/python-3.9-blue)\n",
    "![Status: Pending Migration](https://img.shields.io/badge/status-pending%20migration-orange)\n",
    "\n",
    "<a id=\"table-of-contents\"></a>\n",
    "# 📖 Large Language Models\n",
    "\n",
    "- [🧠 What Makes a Model \"Large\"?](#what-makes-a-model-large)\n",
    "- [📦 Pretraining Objectives](#pretraining-objectives)\n",
    "    - [🧠 Causal Language Modeling](#causal-language-modeling)\n",
    "    - [🔍 Masked Language Modeling](#masked-language-modeling)\n",
    "    - [🧠 Next Sentence Prediction](#next-sentence-prediction)\n",
    "- [🎯 Fine-Tuning vs Prompting](#fine-tuning-vs-prompting)\n",
    "    - [⚙️ Supervised Fine-Tuning (SFT)](#supervised-finetuning)\n",
    "    - [📜 Instruction Tuning](#instruction-tuning)\n",
    "    - [💡 In-Context Learning](#in-context-learning)\n",
    "- [📐 Model Properties and Limits](#model-properties-and-limits)\n",
    "    - [📏 Context Window](#context-window)\n",
    "    - [🧠 Parameter Count and Scaling](#parameter-scaling)\n",
    "    - [🧊 Freezing vs Updating Weights](#frozen-vs-trainable)\n",
    "- [🤖 Model Families and Use Cases](#model-families)\n",
    "    - [💬 Chatbot: Decoder-Only Models (e.g. GPT)](#decoder-only-models)\n",
    "    - [📝 Summarization: Encoder-Decoder Models (e.g. T5)](#encoder-decoder-models)\n",
    "    - [📊 Sentiment: Encoder-Only Models (e.g. BERT)](#encoder-only-models)\n",
    "- [🧪 Inference & Decoding Strategies](#inference-decoding)\n",
    "    - [🎯 Greedy, Top-k, Top-p](#sampling-methods)\n",
    "    - [📤 Generating Text](#generating-text)\n",
    "- [🔚 Closing Notes](#closing-notes)\n",
    "___"
   ]
  },
  {
   "cell_type": "markdown",
   "id": "1d15dd5b",
   "metadata": {},
   "source": [
    "<a id=\"what-makes-a-model-large\"></a>\n",
    "# 🧠 What Makes a Model \"Large\"?\n",
    "\n"
   ]
  },
  {
   "cell_type": "markdown",
   "id": "aba85d56",
   "metadata": {},
   "source": [
    "[Back to the top](#table-of-contents)\n",
    "___\n"
   ]
  },
  {
   "cell_type": "markdown",
   "id": "d897d673",
   "metadata": {},
   "source": [
    "<a id=\"pretraining-objectives\"></a>\n",
    "# 📦 Pretraining Objectives\n",
    "\n"
   ]
  },
  {
   "cell_type": "markdown",
   "id": "82cbf0ed",
   "metadata": {},
   "source": [
    "<a id=\"causal-language-modeling\"></a>\n",
    "#### 🧠 Causal Language Modeling\n",
    "\n"
   ]
  },
  {
   "cell_type": "markdown",
   "id": "2f2e9cab",
   "metadata": {},
   "source": [
    "<a id=\"masked-language-modeling\"></a>\n",
    "#### 🔍 Masked Language Modeling\n",
    "\n"
   ]
  },
  {
   "cell_type": "markdown",
   "id": "38cc4347",
   "metadata": {},
   "source": [
    "<a id=\"next-sentence-prediction\"></a>\n",
    "#### 🧠 Next Sentence Prediction\n",
    "\n"
   ]
  },
  {
   "cell_type": "markdown",
   "id": "6053f55f",
   "metadata": {},
   "source": [
    "[Back to the top](#table-of-contents)\n",
    "___\n"
   ]
  },
  {
   "cell_type": "markdown",
   "id": "e6387e4e",
   "metadata": {},
   "source": [
    "<a id=\"fine-tuning-vs-prompting\"></a>\n",
    "# 🎯 Fine-Tuning vs Prompting\n",
    "\n"
   ]
  },
  {
   "cell_type": "markdown",
   "id": "939c2fd2",
   "metadata": {},
   "source": [
    "<a id=\"supervised-finetuning\"></a>\n",
    "#### ⚙️ Supervised Fine-Tuning (SFT)\n",
    "\n"
   ]
  },
  {
   "cell_type": "markdown",
   "id": "103617ba",
   "metadata": {},
   "source": [
    "<a id=\"instruction-tuning\"></a>\n",
    "#### 📜 Instruction Tuning\n",
    "\n"
   ]
  },
  {
   "cell_type": "markdown",
   "id": "9b1074c5",
   "metadata": {},
   "source": [
    "<a id=\"in-context-learning\"></a>\n",
    "#### 💡 In-Context Learning\n",
    "\n"
   ]
  },
  {
   "cell_type": "markdown",
   "id": "1ca54736",
   "metadata": {},
   "source": [
    "[Back to the top](#table-of-contents)\n",
    "___\n"
   ]
  },
  {
   "cell_type": "markdown",
   "id": "f8cdb2ba",
   "metadata": {},
   "source": [
    "<a id=\"model-properties-and-limits\"></a>\n",
    "# 📐 Model Properties and Limits\n",
    "\n"
   ]
  },
  {
   "cell_type": "markdown",
   "id": "506192ef",
   "metadata": {},
   "source": [
    "<a id=\"context-window\"></a>\n",
    "#### 📏 Context Window\n",
    "\n"
   ]
  },
  {
   "cell_type": "markdown",
   "id": "b941b991",
   "metadata": {},
   "source": [
    "<a id=\"parameter-scaling\"></a>\n",
    "#### 🧠 Parameter Count and Scaling\n",
    "\n"
   ]
  },
  {
   "cell_type": "markdown",
   "id": "959795ab",
   "metadata": {},
   "source": [
    "<a id=\"frozen-vs-trainable\"></a>\n",
    "#### 🧊 Freezing vs Updating Weights\n",
    "\n"
   ]
  },
  {
   "cell_type": "markdown",
   "id": "5d64c50d",
   "metadata": {},
   "source": [
    "[Back to the top](#table-of-contents)\n",
    "___\n"
   ]
  },
  {
   "cell_type": "markdown",
   "id": "5ca1b73e",
   "metadata": {},
   "source": [
    "<a id=\"model-families\"></a>\n",
    "# 🤖 Model Families and Use Cases\n",
    "\n"
   ]
  },
  {
   "cell_type": "markdown",
   "id": "0c2313d7",
   "metadata": {},
   "source": [
    "<a id=\"decoder-only-models\"></a>\n",
    "#### 💬 Chatbot: Decoder-Only Models (e.g. GPT)\n",
    "\n"
   ]
  },
  {
   "cell_type": "markdown",
   "id": "2f75594f",
   "metadata": {},
   "source": [
    "<a id=\"encoder-decoder-models\"></a>\n",
    "#### 📝 Summarization: Encoder-Decoder Models (e.g. T5)\n",
    "\n"
   ]
  },
  {
   "cell_type": "markdown",
   "id": "5a055c8e",
   "metadata": {},
   "source": [
    "<a id=\"encoder-only-models\"></a>\n",
    "#### 📊 Sentiment: Encoder-Only Models (e.g. BERT)\n",
    "\n"
   ]
  },
  {
   "cell_type": "markdown",
   "id": "97586f99",
   "metadata": {},
   "source": [
    "[Back to the top](#table-of-contents)\n",
    "___\n"
   ]
  },
  {
   "cell_type": "markdown",
   "id": "7489f857",
   "metadata": {},
   "source": [
    "<a id=\"inference-decoding\"></a>\n",
    "# 🧪 Inference & Decoding Strategies\n",
    "\n"
   ]
  },
  {
   "cell_type": "markdown",
   "id": "dd34f84b",
   "metadata": {},
   "source": [
    "<a id=\"sampling-methods\"></a>\n",
    "#### 🎯 Greedy, Top-k, Top-p\n",
    "\n"
   ]
  },
  {
   "cell_type": "markdown",
   "id": "837d4339",
   "metadata": {},
   "source": [
    "<a id=\"generating-text\"></a>\n",
    "#### 📤 Generating Text\n",
    "\n"
   ]
  },
  {
   "cell_type": "markdown",
   "id": "4b761ec1",
   "metadata": {},
   "source": [
    "[Back to the top](#table-of-contents)\n",
    "___\n"
   ]
  },
  {
   "cell_type": "markdown",
   "id": "1c99a0b4",
   "metadata": {},
   "source": [
    "<a id=\"closing-notes\"></a>\n",
    "# 🔚 Closing Notes\n"
   ]
  },
  {
   "cell_type": "markdown",
   "id": "ed9f8f47",
   "metadata": {},
   "source": [
    "[Back to the top](#table-of-contents)\n",
    "___\n"
   ]
  }
 ],
 "metadata": {
  "language_info": {
   "name": "python"
  }
 },
 "nbformat": 4,
 "nbformat_minor": 5
}
